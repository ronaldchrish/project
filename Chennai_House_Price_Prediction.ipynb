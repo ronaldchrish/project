{
  "nbformat": 4,
  "nbformat_minor": 0,
  "metadata": {
    "colab": {
      "name": "Chennai House Price Prediction.ipynb",
      "provenance": []
    },
    "kernelspec": {
      "name": "python3",
      "display_name": "Python 3"
    },
    "language_info": {
      "name": "python"
    }
  },
  "cells": [
    {
      "cell_type": "code",
      "execution_count": 183,
      "metadata": {
        "id": "-vMp6ZXZieTO"
      },
      "outputs": [],
      "source": [
        "import pandas as pd\n",
        "import numpy as np\n",
        "import matplotlib.pyplot as plt\n",
        "import seaborn as sns"
      ]
    },
    {
      "cell_type": "markdown",
      "source": [
        "##Problem Statement\n",
        "Real estate transactions are quite opaque sometimes and it may be difficult for a newbie to know the fair price of any given home. Thus, multiple real estate websites have the functionality to predict the prices of houses given different features regarding it. Such forecasting models will help buyers to identify a fair price for the home and also give insights to sellers as to how to build homes that fetch them more money. Chennai house sale price data is shared here and the participants are expected to build a sale price prediction model that will aid the customers to find a fair price for their homes and also help the sellers understand what factors are fetching more money for the houses?\n"
      ],
      "metadata": {
        "id": "Iv79FWapiqBx"
      }
    },
    {
      "cell_type": "code",
      "source": [
        "data = pd. read_csv('/content/train-chennai-sale.csv')"
      ],
      "metadata": {
        "id": "lq2RerOVik3_"
      },
      "execution_count": 184,
      "outputs": []
    },
    {
      "cell_type": "code",
      "source": [
        "data.head()"
      ],
      "metadata": {
        "id": "eDETw5Eoikza",
        "colab": {
          "base_uri": "https://localhost:8080/",
          "height": 386
        },
        "outputId": "0cd5e24f-1b66-4f95-edd4-8b99bad59318"
      },
      "execution_count": 185,
      "outputs": [
        {
          "output_type": "execute_result",
          "data": {
            "text/plain": [
              "   PRT_ID        AREA  INT_SQFT   DATE_SALE  DIST_MAINROAD  N_BEDROOM  \\\n",
              "0  P03210  Karapakkam      1004  04-05-2011            131        1.0   \n",
              "1  P09411  Anna Nagar      1986  19-12-2006             26        2.0   \n",
              "2  P01812       Adyar       909  04-02-2012             70        1.0   \n",
              "3  P05346   Velachery      1855  13-03-2010             14        3.0   \n",
              "4  P06210  Karapakkam      1226  05-10-2009             84        1.0   \n",
              "\n",
              "   N_BATHROOM  N_ROOM SALE_COND PARK_FACIL  ... UTILITY_AVAIL  STREET MZZONE  \\\n",
              "0         1.0       3  AbNormal        Yes  ...        AllPub   Paved      A   \n",
              "1         1.0       5  AbNormal         No  ...        AllPub  Gravel     RH   \n",
              "2         1.0       3  AbNormal        Yes  ...           ELO  Gravel     RL   \n",
              "3         2.0       5    Family         No  ...       NoSewr    Paved      I   \n",
              "4         1.0       3  AbNormal        Yes  ...        AllPub  Gravel      C   \n",
              "\n",
              "  QS_ROOMS QS_BATHROOM  QS_BEDROOM  QS_OVERALL  REG_FEE  COMMIS  SALES_PRICE  \n",
              "0      4.0         3.9         4.9       4.330   380000  144400      7600000  \n",
              "1      4.9         4.2         2.5       3.765   760122  304049     21717770  \n",
              "2      4.1         3.8         2.2       3.090   421094   92114     13159200  \n",
              "3      4.7         3.9         3.6       4.010   356321   77042      9630290  \n",
              "4      3.0         2.5         4.1       3.290   237000   74063      7406250  \n",
              "\n",
              "[5 rows x 22 columns]"
            ],
            "text/html": [
              "\n",
              "  <div id=\"df-0aa2bf0c-1e0b-490b-95da-fb6f2d3d5acb\">\n",
              "    <div class=\"colab-df-container\">\n",
              "      <div>\n",
              "<style scoped>\n",
              "    .dataframe tbody tr th:only-of-type {\n",
              "        vertical-align: middle;\n",
              "    }\n",
              "\n",
              "    .dataframe tbody tr th {\n",
              "        vertical-align: top;\n",
              "    }\n",
              "\n",
              "    .dataframe thead th {\n",
              "        text-align: right;\n",
              "    }\n",
              "</style>\n",
              "<table border=\"1\" class=\"dataframe\">\n",
              "  <thead>\n",
              "    <tr style=\"text-align: right;\">\n",
              "      <th></th>\n",
              "      <th>PRT_ID</th>\n",
              "      <th>AREA</th>\n",
              "      <th>INT_SQFT</th>\n",
              "      <th>DATE_SALE</th>\n",
              "      <th>DIST_MAINROAD</th>\n",
              "      <th>N_BEDROOM</th>\n",
              "      <th>N_BATHROOM</th>\n",
              "      <th>N_ROOM</th>\n",
              "      <th>SALE_COND</th>\n",
              "      <th>PARK_FACIL</th>\n",
              "      <th>...</th>\n",
              "      <th>UTILITY_AVAIL</th>\n",
              "      <th>STREET</th>\n",
              "      <th>MZZONE</th>\n",
              "      <th>QS_ROOMS</th>\n",
              "      <th>QS_BATHROOM</th>\n",
              "      <th>QS_BEDROOM</th>\n",
              "      <th>QS_OVERALL</th>\n",
              "      <th>REG_FEE</th>\n",
              "      <th>COMMIS</th>\n",
              "      <th>SALES_PRICE</th>\n",
              "    </tr>\n",
              "  </thead>\n",
              "  <tbody>\n",
              "    <tr>\n",
              "      <th>0</th>\n",
              "      <td>P03210</td>\n",
              "      <td>Karapakkam</td>\n",
              "      <td>1004</td>\n",
              "      <td>04-05-2011</td>\n",
              "      <td>131</td>\n",
              "      <td>1.0</td>\n",
              "      <td>1.0</td>\n",
              "      <td>3</td>\n",
              "      <td>AbNormal</td>\n",
              "      <td>Yes</td>\n",
              "      <td>...</td>\n",
              "      <td>AllPub</td>\n",
              "      <td>Paved</td>\n",
              "      <td>A</td>\n",
              "      <td>4.0</td>\n",
              "      <td>3.9</td>\n",
              "      <td>4.9</td>\n",
              "      <td>4.330</td>\n",
              "      <td>380000</td>\n",
              "      <td>144400</td>\n",
              "      <td>7600000</td>\n",
              "    </tr>\n",
              "    <tr>\n",
              "      <th>1</th>\n",
              "      <td>P09411</td>\n",
              "      <td>Anna Nagar</td>\n",
              "      <td>1986</td>\n",
              "      <td>19-12-2006</td>\n",
              "      <td>26</td>\n",
              "      <td>2.0</td>\n",
              "      <td>1.0</td>\n",
              "      <td>5</td>\n",
              "      <td>AbNormal</td>\n",
              "      <td>No</td>\n",
              "      <td>...</td>\n",
              "      <td>AllPub</td>\n",
              "      <td>Gravel</td>\n",
              "      <td>RH</td>\n",
              "      <td>4.9</td>\n",
              "      <td>4.2</td>\n",
              "      <td>2.5</td>\n",
              "      <td>3.765</td>\n",
              "      <td>760122</td>\n",
              "      <td>304049</td>\n",
              "      <td>21717770</td>\n",
              "    </tr>\n",
              "    <tr>\n",
              "      <th>2</th>\n",
              "      <td>P01812</td>\n",
              "      <td>Adyar</td>\n",
              "      <td>909</td>\n",
              "      <td>04-02-2012</td>\n",
              "      <td>70</td>\n",
              "      <td>1.0</td>\n",
              "      <td>1.0</td>\n",
              "      <td>3</td>\n",
              "      <td>AbNormal</td>\n",
              "      <td>Yes</td>\n",
              "      <td>...</td>\n",
              "      <td>ELO</td>\n",
              "      <td>Gravel</td>\n",
              "      <td>RL</td>\n",
              "      <td>4.1</td>\n",
              "      <td>3.8</td>\n",
              "      <td>2.2</td>\n",
              "      <td>3.090</td>\n",
              "      <td>421094</td>\n",
              "      <td>92114</td>\n",
              "      <td>13159200</td>\n",
              "    </tr>\n",
              "    <tr>\n",
              "      <th>3</th>\n",
              "      <td>P05346</td>\n",
              "      <td>Velachery</td>\n",
              "      <td>1855</td>\n",
              "      <td>13-03-2010</td>\n",
              "      <td>14</td>\n",
              "      <td>3.0</td>\n",
              "      <td>2.0</td>\n",
              "      <td>5</td>\n",
              "      <td>Family</td>\n",
              "      <td>No</td>\n",
              "      <td>...</td>\n",
              "      <td>NoSewr</td>\n",
              "      <td>Paved</td>\n",
              "      <td>I</td>\n",
              "      <td>4.7</td>\n",
              "      <td>3.9</td>\n",
              "      <td>3.6</td>\n",
              "      <td>4.010</td>\n",
              "      <td>356321</td>\n",
              "      <td>77042</td>\n",
              "      <td>9630290</td>\n",
              "    </tr>\n",
              "    <tr>\n",
              "      <th>4</th>\n",
              "      <td>P06210</td>\n",
              "      <td>Karapakkam</td>\n",
              "      <td>1226</td>\n",
              "      <td>05-10-2009</td>\n",
              "      <td>84</td>\n",
              "      <td>1.0</td>\n",
              "      <td>1.0</td>\n",
              "      <td>3</td>\n",
              "      <td>AbNormal</td>\n",
              "      <td>Yes</td>\n",
              "      <td>...</td>\n",
              "      <td>AllPub</td>\n",
              "      <td>Gravel</td>\n",
              "      <td>C</td>\n",
              "      <td>3.0</td>\n",
              "      <td>2.5</td>\n",
              "      <td>4.1</td>\n",
              "      <td>3.290</td>\n",
              "      <td>237000</td>\n",
              "      <td>74063</td>\n",
              "      <td>7406250</td>\n",
              "    </tr>\n",
              "  </tbody>\n",
              "</table>\n",
              "<p>5 rows × 22 columns</p>\n",
              "</div>\n",
              "      <button class=\"colab-df-convert\" onclick=\"convertToInteractive('df-0aa2bf0c-1e0b-490b-95da-fb6f2d3d5acb')\"\n",
              "              title=\"Convert this dataframe to an interactive table.\"\n",
              "              style=\"display:none;\">\n",
              "        \n",
              "  <svg xmlns=\"http://www.w3.org/2000/svg\" height=\"24px\"viewBox=\"0 0 24 24\"\n",
              "       width=\"24px\">\n",
              "    <path d=\"M0 0h24v24H0V0z\" fill=\"none\"/>\n",
              "    <path d=\"M18.56 5.44l.94 2.06.94-2.06 2.06-.94-2.06-.94-.94-2.06-.94 2.06-2.06.94zm-11 1L8.5 8.5l.94-2.06 2.06-.94-2.06-.94L8.5 2.5l-.94 2.06-2.06.94zm10 10l.94 2.06.94-2.06 2.06-.94-2.06-.94-.94-2.06-.94 2.06-2.06.94z\"/><path d=\"M17.41 7.96l-1.37-1.37c-.4-.4-.92-.59-1.43-.59-.52 0-1.04.2-1.43.59L10.3 9.45l-7.72 7.72c-.78.78-.78 2.05 0 2.83L4 21.41c.39.39.9.59 1.41.59.51 0 1.02-.2 1.41-.59l7.78-7.78 2.81-2.81c.8-.78.8-2.07 0-2.86zM5.41 20L4 18.59l7.72-7.72 1.47 1.35L5.41 20z\"/>\n",
              "  </svg>\n",
              "      </button>\n",
              "      \n",
              "  <style>\n",
              "    .colab-df-container {\n",
              "      display:flex;\n",
              "      flex-wrap:wrap;\n",
              "      gap: 12px;\n",
              "    }\n",
              "\n",
              "    .colab-df-convert {\n",
              "      background-color: #E8F0FE;\n",
              "      border: none;\n",
              "      border-radius: 50%;\n",
              "      cursor: pointer;\n",
              "      display: none;\n",
              "      fill: #1967D2;\n",
              "      height: 32px;\n",
              "      padding: 0 0 0 0;\n",
              "      width: 32px;\n",
              "    }\n",
              "\n",
              "    .colab-df-convert:hover {\n",
              "      background-color: #E2EBFA;\n",
              "      box-shadow: 0px 1px 2px rgba(60, 64, 67, 0.3), 0px 1px 3px 1px rgba(60, 64, 67, 0.15);\n",
              "      fill: #174EA6;\n",
              "    }\n",
              "\n",
              "    [theme=dark] .colab-df-convert {\n",
              "      background-color: #3B4455;\n",
              "      fill: #D2E3FC;\n",
              "    }\n",
              "\n",
              "    [theme=dark] .colab-df-convert:hover {\n",
              "      background-color: #434B5C;\n",
              "      box-shadow: 0px 1px 3px 1px rgba(0, 0, 0, 0.15);\n",
              "      filter: drop-shadow(0px 1px 2px rgba(0, 0, 0, 0.3));\n",
              "      fill: #FFFFFF;\n",
              "    }\n",
              "  </style>\n",
              "\n",
              "      <script>\n",
              "        const buttonEl =\n",
              "          document.querySelector('#df-0aa2bf0c-1e0b-490b-95da-fb6f2d3d5acb button.colab-df-convert');\n",
              "        buttonEl.style.display =\n",
              "          google.colab.kernel.accessAllowed ? 'block' : 'none';\n",
              "\n",
              "        async function convertToInteractive(key) {\n",
              "          const element = document.querySelector('#df-0aa2bf0c-1e0b-490b-95da-fb6f2d3d5acb');\n",
              "          const dataTable =\n",
              "            await google.colab.kernel.invokeFunction('convertToInteractive',\n",
              "                                                     [key], {});\n",
              "          if (!dataTable) return;\n",
              "\n",
              "          const docLinkHtml = 'Like what you see? Visit the ' +\n",
              "            '<a target=\"_blank\" href=https://colab.research.google.com/notebooks/data_table.ipynb>data table notebook</a>'\n",
              "            + ' to learn more about interactive tables.';\n",
              "          element.innerHTML = '';\n",
              "          dataTable['output_type'] = 'display_data';\n",
              "          await google.colab.output.renderOutput(dataTable, element);\n",
              "          const docLink = document.createElement('div');\n",
              "          docLink.innerHTML = docLinkHtml;\n",
              "          element.appendChild(docLink);\n",
              "        }\n",
              "      </script>\n",
              "    </div>\n",
              "  </div>\n",
              "  "
            ]
          },
          "metadata": {},
          "execution_count": 185
        }
      ]
    },
    {
      "cell_type": "code",
      "source": [
        ""
      ],
      "metadata": {
        "id": "cavO_-xKSb6v"
      },
      "execution_count": 185,
      "outputs": []
    },
    {
      "cell_type": "code",
      "source": [
        " ## checking number of columns and row \n",
        " print(data.shape)\n",
        "\n",
        " print(data.columns)"
      ],
      "metadata": {
        "id": "IdmZglrBikxd",
        "colab": {
          "base_uri": "https://localhost:8080/"
        },
        "outputId": "7cefaa8a-340f-40a7-c963-72190944ee27"
      },
      "execution_count": 186,
      "outputs": [
        {
          "output_type": "stream",
          "name": "stdout",
          "text": [
            "(7109, 22)\n",
            "Index(['PRT_ID', 'AREA', 'INT_SQFT', 'DATE_SALE', 'DIST_MAINROAD', 'N_BEDROOM',\n",
            "       'N_BATHROOM', 'N_ROOM', 'SALE_COND', 'PARK_FACIL', 'DATE_BUILD',\n",
            "       'BUILDTYPE', 'UTILITY_AVAIL', 'STREET', 'MZZONE', 'QS_ROOMS',\n",
            "       'QS_BATHROOM', 'QS_BEDROOM', 'QS_OVERALL', 'REG_FEE', 'COMMIS',\n",
            "       'SALES_PRICE'],\n",
            "      dtype='object')\n"
          ]
        }
      ]
    },
    {
      "cell_type": "markdown",
      "source": [
        "## DROPED PAR_ID , REG_FEE , COMMIS COLUMNS "
      ],
      "metadata": {
        "id": "9j3Rqd4YtG25"
      }
    },
    {
      "cell_type": "code",
      "source": [
        "## DRIOPING AD ID COLUMN\n",
        "data = data.drop(['PRT_ID'], axis=1)"
      ],
      "metadata": {
        "id": "kusT-Nv-kplR"
      },
      "execution_count": 187,
      "outputs": []
    },
    {
      "cell_type": "code",
      "source": [
        "## HERE WE ADD REG_FEE , COMMIS , SALES_PRICE= TOTAL SALES_PRICE\n",
        "data['TOTAL_SALES_PRICE'] = data['REG_FEE'] + data['COMMIS'] + data['SALES_PRICE']"
      ],
      "metadata": {
        "id": "2tvtqoDlCJ3Y"
      },
      "execution_count": 188,
      "outputs": []
    },
    {
      "cell_type": "code",
      "source": [
        "data.shape"
      ],
      "metadata": {
        "colab": {
          "base_uri": "https://localhost:8080/"
        },
        "id": "-SV7AfPhkpUM",
        "outputId": "188e5c25-a555-4779-aafb-b9c9ab519c3d"
      },
      "execution_count": 189,
      "outputs": [
        {
          "output_type": "execute_result",
          "data": {
            "text/plain": [
              "(7109, 22)"
            ]
          },
          "metadata": {},
          "execution_count": 189
        }
      ]
    },
    {
      "cell_type": "code",
      "source": [
        "## checking null vlues\n",
        "data.isnull().sum()"
      ],
      "metadata": {
        "id": "v-LbxFz4iktU",
        "colab": {
          "base_uri": "https://localhost:8080/"
        },
        "outputId": "809aa7f9-f2f3-4ce5-9b54-c5ad9fc065a5"
      },
      "execution_count": 190,
      "outputs": [
        {
          "output_type": "execute_result",
          "data": {
            "text/plain": [
              "AREA                  0\n",
              "INT_SQFT              0\n",
              "DATE_SALE             0\n",
              "DIST_MAINROAD         0\n",
              "N_BEDROOM             1\n",
              "N_BATHROOM            5\n",
              "N_ROOM                0\n",
              "SALE_COND             0\n",
              "PARK_FACIL            0\n",
              "DATE_BUILD            0\n",
              "BUILDTYPE             0\n",
              "UTILITY_AVAIL         0\n",
              "STREET                0\n",
              "MZZONE                0\n",
              "QS_ROOMS              0\n",
              "QS_BATHROOM           0\n",
              "QS_BEDROOM            0\n",
              "QS_OVERALL           48\n",
              "REG_FEE               0\n",
              "COMMIS                0\n",
              "SALES_PRICE           0\n",
              "TOTAL_SALES_PRICE     0\n",
              "dtype: int64"
            ]
          },
          "metadata": {},
          "execution_count": 190
        }
      ]
    },
    {
      "cell_type": "code",
      "source": [
        "## checking data type \n",
        "data.dtypes"
      ],
      "metadata": {
        "id": "vX_avVqtikqo",
        "colab": {
          "base_uri": "https://localhost:8080/"
        },
        "outputId": "4136810a-7bc3-4a64-bebd-98bf7f3696a2"
      },
      "execution_count": 191,
      "outputs": [
        {
          "output_type": "execute_result",
          "data": {
            "text/plain": [
              "AREA                  object\n",
              "INT_SQFT               int64\n",
              "DATE_SALE             object\n",
              "DIST_MAINROAD          int64\n",
              "N_BEDROOM            float64\n",
              "N_BATHROOM           float64\n",
              "N_ROOM                 int64\n",
              "SALE_COND             object\n",
              "PARK_FACIL            object\n",
              "DATE_BUILD            object\n",
              "BUILDTYPE             object\n",
              "UTILITY_AVAIL         object\n",
              "STREET                object\n",
              "MZZONE                object\n",
              "QS_ROOMS             float64\n",
              "QS_BATHROOM          float64\n",
              "QS_BEDROOM           float64\n",
              "QS_OVERALL           float64\n",
              "REG_FEE                int64\n",
              "COMMIS                 int64\n",
              "SALES_PRICE            int64\n",
              "TOTAL_SALES_PRICE      int64\n",
              "dtype: object"
            ]
          },
          "metadata": {},
          "execution_count": 191
        }
      ]
    },
    {
      "cell_type": "markdown",
      "source": [
        "# **SPELLING CORECTION FOR CATEGORICAL FEATUREES** "
      ],
      "metadata": {
        "id": "UmUGsMkfl8Pq"
      }
    },
    {
      "cell_type": "code",
      "source": [
        "## checking splling in area column   ## Karapakkam', 'Anna Nagar', 'Adyar', 'Velachery', 'Chrompet'KK Nagar', 'TNagar\n",
        "data.AREA.unique()"
      ],
      "metadata": {
        "id": "6QkUmG3Dikmd",
        "colab": {
          "base_uri": "https://localhost:8080/"
        },
        "outputId": "36ec8fb1-fffc-4974-d373-24b0a5430870"
      },
      "execution_count": 192,
      "outputs": [
        {
          "output_type": "execute_result",
          "data": {
            "text/plain": [
              "array(['Karapakkam', 'Anna Nagar', 'Adyar', 'Velachery', 'Chrompet',\n",
              "       'KK Nagar', 'TNagar', 'T Nagar', 'Chrompt', 'Chrmpet', 'Karapakam',\n",
              "       'Ana Nagar', 'Chormpet', 'Adyr', 'Velchery', 'Ann Nagar',\n",
              "       'KKNagar'], dtype=object)"
            ]
          },
          "metadata": {},
          "execution_count": 192
        }
      ]
    },
    {
      "cell_type": "code",
      "source": [
        "data.AREA= data['AREA'].str.strip()"
      ],
      "metadata": {
        "id": "d5MsDZT0ikkO"
      },
      "execution_count": 193,
      "outputs": []
    },
    {
      "cell_type": "code",
      "source": [
        "data.AREA.unique()"
      ],
      "metadata": {
        "colab": {
          "base_uri": "https://localhost:8080/"
        },
        "id": "MTPodutfRVPU",
        "outputId": "464e097d-7866-45f6-8970-a737dff8e7a5"
      },
      "execution_count": 194,
      "outputs": [
        {
          "output_type": "execute_result",
          "data": {
            "text/plain": [
              "array(['Karapakkam', 'Anna Nagar', 'Adyar', 'Velachery', 'Chrompet',\n",
              "       'KK Nagar', 'TNagar', 'T Nagar', 'Chrompt', 'Chrmpet', 'Karapakam',\n",
              "       'Ana Nagar', 'Chormpet', 'Adyr', 'Velchery', 'Ann Nagar',\n",
              "       'KKNagar'], dtype=object)"
            ]
          },
          "metadata": {},
          "execution_count": 194
        }
      ]
    },
    {
      "cell_type": "code",
      "source": [
        "data['AREA'].replace(['Ana Nagar','Ann Nagar','Karapakam','Chrompt','Chrmpet','Chormpet','Adyr','Velchery','KKNagar','TNagar'],\n",
        "['Anna Nagar','Anna Nagar','Karapakkam','Chrompet','Chrompet','Chrompet','Adyar','Velachery','KK Nagar','T Nagar'],\n",
        "inplace=True)\n",
        "data.AREA.unique()"
      ],
      "metadata": {
        "colab": {
          "base_uri": "https://localhost:8080/"
        },
        "id": "w-C_BrkdRVDQ",
        "outputId": "b1b6d2a7-73c0-49ca-ae8d-1df163837cb6"
      },
      "execution_count": 195,
      "outputs": [
        {
          "output_type": "execute_result",
          "data": {
            "text/plain": [
              "array(['Karapakkam', 'Anna Nagar', 'Adyar', 'Velachery', 'Chrompet',\n",
              "       'KK Nagar', 'T Nagar'], dtype=object)"
            ]
          },
          "metadata": {},
          "execution_count": 195
        }
      ]
    },
    {
      "cell_type": "code",
      "source": [
        "##SALE_COND COLUMN\n",
        "data.SALE_COND.unique()\n"
      ],
      "metadata": {
        "colab": {
          "base_uri": "https://localhost:8080/"
        },
        "id": "e7LouAOmRU9m",
        "outputId": "19d23450-56e1-4843-db1c-ea2bbe09c79f"
      },
      "execution_count": 196,
      "outputs": [
        {
          "output_type": "execute_result",
          "data": {
            "text/plain": [
              "array(['AbNormal', 'Family', 'Partial', 'AdjLand', 'Normal Sale',\n",
              "       'Ab Normal', 'Partiall', 'Adj Land', 'PartiaLl'], dtype=object)"
            ]
          },
          "metadata": {},
          "execution_count": 196
        }
      ]
    },
    {
      "cell_type": "code",
      "source": [
        "data['SALE_COND'].replace(['Ab Normal', 'Partiall', 'Adj Land', 'PartiaLl'],['AbNormal','Partial','Partial','AdjLand'],inplace=True)\n",
        "data.SALE_COND.unique()"
      ],
      "metadata": {
        "colab": {
          "base_uri": "https://localhost:8080/"
        },
        "id": "Cy5cKPLBRU5q",
        "outputId": "34592168-5bca-4ed2-b6f9-33ef47f39262"
      },
      "execution_count": 197,
      "outputs": [
        {
          "output_type": "execute_result",
          "data": {
            "text/plain": [
              "array(['AbNormal', 'Family', 'Partial', 'AdjLand', 'Normal Sale'],\n",
              "      dtype=object)"
            ]
          },
          "metadata": {},
          "execution_count": 197
        }
      ]
    },
    {
      "cell_type": "code",
      "source": [
        "data.PARK_FACIL.unique()"
      ],
      "metadata": {
        "colab": {
          "base_uri": "https://localhost:8080/"
        },
        "id": "GQBNG8ipRU3y",
        "outputId": "b8ce5cf4-1d8c-4470-fe48-5598383e9e1d"
      },
      "execution_count": 198,
      "outputs": [
        {
          "output_type": "execute_result",
          "data": {
            "text/plain": [
              "array(['Yes', 'No', 'Noo'], dtype=object)"
            ]
          },
          "metadata": {},
          "execution_count": 198
        }
      ]
    },
    {
      "cell_type": "code",
      "source": [
        "data['PARK_FACIL'].replace(['Noo'],['No'],inplace=True)\n",
        "data.PARK_FACIL.unique()"
      ],
      "metadata": {
        "colab": {
          "base_uri": "https://localhost:8080/"
        },
        "id": "wSspDuPCRU08",
        "outputId": "4f68b025-d5bc-4b77-91bc-905a60046fae"
      },
      "execution_count": 199,
      "outputs": [
        {
          "output_type": "execute_result",
          "data": {
            "text/plain": [
              "array(['Yes', 'No'], dtype=object)"
            ]
          },
          "metadata": {},
          "execution_count": 199
        }
      ]
    },
    {
      "cell_type": "code",
      "source": [
        "data.UTILITY_AVAIL.unique()"
      ],
      "metadata": {
        "colab": {
          "base_uri": "https://localhost:8080/"
        },
        "id": "U8qqqwYiRUyV",
        "outputId": "a288fb56-1b9c-4d52-b1e5-2ec8f3db91f8"
      },
      "execution_count": 200,
      "outputs": [
        {
          "output_type": "execute_result",
          "data": {
            "text/plain": [
              "array(['AllPub', 'ELO', 'NoSewr ', 'NoSeWa', 'All Pub'], dtype=object)"
            ]
          },
          "metadata": {},
          "execution_count": 200
        }
      ]
    },
    {
      "cell_type": "code",
      "source": [
        "data['UTILITY_AVAIL'].replace(['NoSewr ','NoSeWa','All Pub'],['No Sewer','No Sewa','AllPub'],inplace=True)\n",
        "data.UTILITY_AVAIL.unique()"
      ],
      "metadata": {
        "colab": {
          "base_uri": "https://localhost:8080/"
        },
        "id": "aHBuO16Koyl7",
        "outputId": "c8aa811c-d3b1-4531-bcb7-df94f024f463"
      },
      "execution_count": 201,
      "outputs": [
        {
          "output_type": "execute_result",
          "data": {
            "text/plain": [
              "array(['AllPub', 'ELO', 'No Sewer', 'No Sewa'], dtype=object)"
            ]
          },
          "metadata": {},
          "execution_count": 201
        }
      ]
    },
    {
      "cell_type": "code",
      "source": [
        "data.STREET.unique()"
      ],
      "metadata": {
        "colab": {
          "base_uri": "https://localhost:8080/"
        },
        "id": "zWAb3ikioykN",
        "outputId": "046fe3a7-e038-4cc6-b74b-54c94e5989d7"
      },
      "execution_count": 202,
      "outputs": [
        {
          "output_type": "execute_result",
          "data": {
            "text/plain": [
              "array(['Paved', 'Gravel', 'No Access', 'Pavd', 'NoAccess'], dtype=object)"
            ]
          },
          "metadata": {},
          "execution_count": 202
        }
      ]
    },
    {
      "cell_type": "code",
      "source": [
        "data['STREET'].replace(['Pavd','NoAccess'],['Paved','No Access'],inplace=True)\n",
        "data.STREET.unique()"
      ],
      "metadata": {
        "colab": {
          "base_uri": "https://localhost:8080/"
        },
        "id": "d6H971UKoyfr",
        "outputId": "026b039b-2041-4385-a7b1-4dd13bdbaa2f"
      },
      "execution_count": 203,
      "outputs": [
        {
          "output_type": "execute_result",
          "data": {
            "text/plain": [
              "array(['Paved', 'Gravel', 'No Access'], dtype=object)"
            ]
          },
          "metadata": {},
          "execution_count": 203
        }
      ]
    },
    {
      "cell_type": "code",
      "source": [
        "data.BUILDTYPE.unique()"
      ],
      "metadata": {
        "colab": {
          "base_uri": "https://localhost:8080/"
        },
        "id": "7sxI2hpHoyd8",
        "outputId": "609edbd0-f9dd-467f-87e7-80ab591c983c"
      },
      "execution_count": 204,
      "outputs": [
        {
          "output_type": "execute_result",
          "data": {
            "text/plain": [
              "array(['Commercial', 'Others', 'Other', 'House', 'Comercial'],\n",
              "      dtype=object)"
            ]
          },
          "metadata": {},
          "execution_count": 204
        }
      ]
    },
    {
      "cell_type": "code",
      "source": [
        "data['BUILDTYPE'].replace(['Comercial','Other'],['Commercial','Others'],inplace=True)\n",
        "data.BUILDTYPE.unique()"
      ],
      "metadata": {
        "colab": {
          "base_uri": "https://localhost:8080/"
        },
        "id": "HpoM1BGQrMAK",
        "outputId": "9b8b0bce-0b6a-43d6-b061-05e81c66607e"
      },
      "execution_count": 205,
      "outputs": [
        {
          "output_type": "execute_result",
          "data": {
            "text/plain": [
              "array(['Commercial', 'Others', 'House'], dtype=object)"
            ]
          },
          "metadata": {},
          "execution_count": 205
        }
      ]
    },
    {
      "cell_type": "code",
      "source": [
        "data.MZZONE.unique()"
      ],
      "metadata": {
        "colab": {
          "base_uri": "https://localhost:8080/"
        },
        "id": "ofy6BFfZtgko",
        "outputId": "c94d0dce-9910-4f5c-c999-dccf35f6b1c2"
      },
      "execution_count": 206,
      "outputs": [
        {
          "output_type": "execute_result",
          "data": {
            "text/plain": [
              "array(['A', 'RH', 'RL', 'I', 'C', 'RM'], dtype=object)"
            ]
          },
          "metadata": {},
          "execution_count": 206
        }
      ]
    },
    {
      "cell_type": "code",
      "source": [
        "data.head()"
      ],
      "metadata": {
        "colab": {
          "base_uri": "https://localhost:8080/",
          "height": 386
        },
        "id": "hOCDrVEMrLyC",
        "outputId": "b06a80a9-812c-4eb9-8398-0a6abce03710"
      },
      "execution_count": 207,
      "outputs": [
        {
          "output_type": "execute_result",
          "data": {
            "text/plain": [
              "         AREA  INT_SQFT   DATE_SALE  DIST_MAINROAD  N_BEDROOM  N_BATHROOM  \\\n",
              "0  Karapakkam      1004  04-05-2011            131        1.0         1.0   \n",
              "1  Anna Nagar      1986  19-12-2006             26        2.0         1.0   \n",
              "2       Adyar       909  04-02-2012             70        1.0         1.0   \n",
              "3   Velachery      1855  13-03-2010             14        3.0         2.0   \n",
              "4  Karapakkam      1226  05-10-2009             84        1.0         1.0   \n",
              "\n",
              "   N_ROOM SALE_COND PARK_FACIL  DATE_BUILD  ...  STREET MZZONE QS_ROOMS  \\\n",
              "0       3  AbNormal        Yes  15-05-1967  ...   Paved      A      4.0   \n",
              "1       5  AbNormal         No  22-12-1995  ...  Gravel     RH      4.9   \n",
              "2       3  AbNormal        Yes  09-02-1992  ...  Gravel     RL      4.1   \n",
              "3       5    Family         No  18-03-1988  ...   Paved      I      4.7   \n",
              "4       3  AbNormal        Yes  13-10-1979  ...  Gravel      C      3.0   \n",
              "\n",
              "  QS_BATHROOM  QS_BEDROOM  QS_OVERALL  REG_FEE  COMMIS  SALES_PRICE  \\\n",
              "0         3.9         4.9       4.330   380000  144400      7600000   \n",
              "1         4.2         2.5       3.765   760122  304049     21717770   \n",
              "2         3.8         2.2       3.090   421094   92114     13159200   \n",
              "3         3.9         3.6       4.010   356321   77042      9630290   \n",
              "4         2.5         4.1       3.290   237000   74063      7406250   \n",
              "\n",
              "   TOTAL_SALES_PRICE  \n",
              "0            8124400  \n",
              "1           22781941  \n",
              "2           13672408  \n",
              "3           10063653  \n",
              "4            7717313  \n",
              "\n",
              "[5 rows x 22 columns]"
            ],
            "text/html": [
              "\n",
              "  <div id=\"df-d3cf03d3-4439-4945-84a1-a8af8dfb629b\">\n",
              "    <div class=\"colab-df-container\">\n",
              "      <div>\n",
              "<style scoped>\n",
              "    .dataframe tbody tr th:only-of-type {\n",
              "        vertical-align: middle;\n",
              "    }\n",
              "\n",
              "    .dataframe tbody tr th {\n",
              "        vertical-align: top;\n",
              "    }\n",
              "\n",
              "    .dataframe thead th {\n",
              "        text-align: right;\n",
              "    }\n",
              "</style>\n",
              "<table border=\"1\" class=\"dataframe\">\n",
              "  <thead>\n",
              "    <tr style=\"text-align: right;\">\n",
              "      <th></th>\n",
              "      <th>AREA</th>\n",
              "      <th>INT_SQFT</th>\n",
              "      <th>DATE_SALE</th>\n",
              "      <th>DIST_MAINROAD</th>\n",
              "      <th>N_BEDROOM</th>\n",
              "      <th>N_BATHROOM</th>\n",
              "      <th>N_ROOM</th>\n",
              "      <th>SALE_COND</th>\n",
              "      <th>PARK_FACIL</th>\n",
              "      <th>DATE_BUILD</th>\n",
              "      <th>...</th>\n",
              "      <th>STREET</th>\n",
              "      <th>MZZONE</th>\n",
              "      <th>QS_ROOMS</th>\n",
              "      <th>QS_BATHROOM</th>\n",
              "      <th>QS_BEDROOM</th>\n",
              "      <th>QS_OVERALL</th>\n",
              "      <th>REG_FEE</th>\n",
              "      <th>COMMIS</th>\n",
              "      <th>SALES_PRICE</th>\n",
              "      <th>TOTAL_SALES_PRICE</th>\n",
              "    </tr>\n",
              "  </thead>\n",
              "  <tbody>\n",
              "    <tr>\n",
              "      <th>0</th>\n",
              "      <td>Karapakkam</td>\n",
              "      <td>1004</td>\n",
              "      <td>04-05-2011</td>\n",
              "      <td>131</td>\n",
              "      <td>1.0</td>\n",
              "      <td>1.0</td>\n",
              "      <td>3</td>\n",
              "      <td>AbNormal</td>\n",
              "      <td>Yes</td>\n",
              "      <td>15-05-1967</td>\n",
              "      <td>...</td>\n",
              "      <td>Paved</td>\n",
              "      <td>A</td>\n",
              "      <td>4.0</td>\n",
              "      <td>3.9</td>\n",
              "      <td>4.9</td>\n",
              "      <td>4.330</td>\n",
              "      <td>380000</td>\n",
              "      <td>144400</td>\n",
              "      <td>7600000</td>\n",
              "      <td>8124400</td>\n",
              "    </tr>\n",
              "    <tr>\n",
              "      <th>1</th>\n",
              "      <td>Anna Nagar</td>\n",
              "      <td>1986</td>\n",
              "      <td>19-12-2006</td>\n",
              "      <td>26</td>\n",
              "      <td>2.0</td>\n",
              "      <td>1.0</td>\n",
              "      <td>5</td>\n",
              "      <td>AbNormal</td>\n",
              "      <td>No</td>\n",
              "      <td>22-12-1995</td>\n",
              "      <td>...</td>\n",
              "      <td>Gravel</td>\n",
              "      <td>RH</td>\n",
              "      <td>4.9</td>\n",
              "      <td>4.2</td>\n",
              "      <td>2.5</td>\n",
              "      <td>3.765</td>\n",
              "      <td>760122</td>\n",
              "      <td>304049</td>\n",
              "      <td>21717770</td>\n",
              "      <td>22781941</td>\n",
              "    </tr>\n",
              "    <tr>\n",
              "      <th>2</th>\n",
              "      <td>Adyar</td>\n",
              "      <td>909</td>\n",
              "      <td>04-02-2012</td>\n",
              "      <td>70</td>\n",
              "      <td>1.0</td>\n",
              "      <td>1.0</td>\n",
              "      <td>3</td>\n",
              "      <td>AbNormal</td>\n",
              "      <td>Yes</td>\n",
              "      <td>09-02-1992</td>\n",
              "      <td>...</td>\n",
              "      <td>Gravel</td>\n",
              "      <td>RL</td>\n",
              "      <td>4.1</td>\n",
              "      <td>3.8</td>\n",
              "      <td>2.2</td>\n",
              "      <td>3.090</td>\n",
              "      <td>421094</td>\n",
              "      <td>92114</td>\n",
              "      <td>13159200</td>\n",
              "      <td>13672408</td>\n",
              "    </tr>\n",
              "    <tr>\n",
              "      <th>3</th>\n",
              "      <td>Velachery</td>\n",
              "      <td>1855</td>\n",
              "      <td>13-03-2010</td>\n",
              "      <td>14</td>\n",
              "      <td>3.0</td>\n",
              "      <td>2.0</td>\n",
              "      <td>5</td>\n",
              "      <td>Family</td>\n",
              "      <td>No</td>\n",
              "      <td>18-03-1988</td>\n",
              "      <td>...</td>\n",
              "      <td>Paved</td>\n",
              "      <td>I</td>\n",
              "      <td>4.7</td>\n",
              "      <td>3.9</td>\n",
              "      <td>3.6</td>\n",
              "      <td>4.010</td>\n",
              "      <td>356321</td>\n",
              "      <td>77042</td>\n",
              "      <td>9630290</td>\n",
              "      <td>10063653</td>\n",
              "    </tr>\n",
              "    <tr>\n",
              "      <th>4</th>\n",
              "      <td>Karapakkam</td>\n",
              "      <td>1226</td>\n",
              "      <td>05-10-2009</td>\n",
              "      <td>84</td>\n",
              "      <td>1.0</td>\n",
              "      <td>1.0</td>\n",
              "      <td>3</td>\n",
              "      <td>AbNormal</td>\n",
              "      <td>Yes</td>\n",
              "      <td>13-10-1979</td>\n",
              "      <td>...</td>\n",
              "      <td>Gravel</td>\n",
              "      <td>C</td>\n",
              "      <td>3.0</td>\n",
              "      <td>2.5</td>\n",
              "      <td>4.1</td>\n",
              "      <td>3.290</td>\n",
              "      <td>237000</td>\n",
              "      <td>74063</td>\n",
              "      <td>7406250</td>\n",
              "      <td>7717313</td>\n",
              "    </tr>\n",
              "  </tbody>\n",
              "</table>\n",
              "<p>5 rows × 22 columns</p>\n",
              "</div>\n",
              "      <button class=\"colab-df-convert\" onclick=\"convertToInteractive('df-d3cf03d3-4439-4945-84a1-a8af8dfb629b')\"\n",
              "              title=\"Convert this dataframe to an interactive table.\"\n",
              "              style=\"display:none;\">\n",
              "        \n",
              "  <svg xmlns=\"http://www.w3.org/2000/svg\" height=\"24px\"viewBox=\"0 0 24 24\"\n",
              "       width=\"24px\">\n",
              "    <path d=\"M0 0h24v24H0V0z\" fill=\"none\"/>\n",
              "    <path d=\"M18.56 5.44l.94 2.06.94-2.06 2.06-.94-2.06-.94-.94-2.06-.94 2.06-2.06.94zm-11 1L8.5 8.5l.94-2.06 2.06-.94-2.06-.94L8.5 2.5l-.94 2.06-2.06.94zm10 10l.94 2.06.94-2.06 2.06-.94-2.06-.94-.94-2.06-.94 2.06-2.06.94z\"/><path d=\"M17.41 7.96l-1.37-1.37c-.4-.4-.92-.59-1.43-.59-.52 0-1.04.2-1.43.59L10.3 9.45l-7.72 7.72c-.78.78-.78 2.05 0 2.83L4 21.41c.39.39.9.59 1.41.59.51 0 1.02-.2 1.41-.59l7.78-7.78 2.81-2.81c.8-.78.8-2.07 0-2.86zM5.41 20L4 18.59l7.72-7.72 1.47 1.35L5.41 20z\"/>\n",
              "  </svg>\n",
              "      </button>\n",
              "      \n",
              "  <style>\n",
              "    .colab-df-container {\n",
              "      display:flex;\n",
              "      flex-wrap:wrap;\n",
              "      gap: 12px;\n",
              "    }\n",
              "\n",
              "    .colab-df-convert {\n",
              "      background-color: #E8F0FE;\n",
              "      border: none;\n",
              "      border-radius: 50%;\n",
              "      cursor: pointer;\n",
              "      display: none;\n",
              "      fill: #1967D2;\n",
              "      height: 32px;\n",
              "      padding: 0 0 0 0;\n",
              "      width: 32px;\n",
              "    }\n",
              "\n",
              "    .colab-df-convert:hover {\n",
              "      background-color: #E2EBFA;\n",
              "      box-shadow: 0px 1px 2px rgba(60, 64, 67, 0.3), 0px 1px 3px 1px rgba(60, 64, 67, 0.15);\n",
              "      fill: #174EA6;\n",
              "    }\n",
              "\n",
              "    [theme=dark] .colab-df-convert {\n",
              "      background-color: #3B4455;\n",
              "      fill: #D2E3FC;\n",
              "    }\n",
              "\n",
              "    [theme=dark] .colab-df-convert:hover {\n",
              "      background-color: #434B5C;\n",
              "      box-shadow: 0px 1px 3px 1px rgba(0, 0, 0, 0.15);\n",
              "      filter: drop-shadow(0px 1px 2px rgba(0, 0, 0, 0.3));\n",
              "      fill: #FFFFFF;\n",
              "    }\n",
              "  </style>\n",
              "\n",
              "      <script>\n",
              "        const buttonEl =\n",
              "          document.querySelector('#df-d3cf03d3-4439-4945-84a1-a8af8dfb629b button.colab-df-convert');\n",
              "        buttonEl.style.display =\n",
              "          google.colab.kernel.accessAllowed ? 'block' : 'none';\n",
              "\n",
              "        async function convertToInteractive(key) {\n",
              "          const element = document.querySelector('#df-d3cf03d3-4439-4945-84a1-a8af8dfb629b');\n",
              "          const dataTable =\n",
              "            await google.colab.kernel.invokeFunction('convertToInteractive',\n",
              "                                                     [key], {});\n",
              "          if (!dataTable) return;\n",
              "\n",
              "          const docLinkHtml = 'Like what you see? Visit the ' +\n",
              "            '<a target=\"_blank\" href=https://colab.research.google.com/notebooks/data_table.ipynb>data table notebook</a>'\n",
              "            + ' to learn more about interactive tables.';\n",
              "          element.innerHTML = '';\n",
              "          dataTable['output_type'] = 'display_data';\n",
              "          await google.colab.output.renderOutput(dataTable, element);\n",
              "          const docLink = document.createElement('div');\n",
              "          docLink.innerHTML = docLinkHtml;\n",
              "          element.appendChild(docLink);\n",
              "        }\n",
              "      </script>\n",
              "    </div>\n",
              "  </div>\n",
              "  "
            ]
          },
          "metadata": {},
          "execution_count": 207
        }
      ]
    },
    {
      "cell_type": "markdown",
      "source": [
        "## **FILLING NULL VALUES TO MISSING COLUMNS**"
      ],
      "metadata": {
        "id": "4xIj2TeJ1lxt"
      }
    },
    {
      "cell_type": "code",
      "source": [
        "data.isnull().sum()"
      ],
      "metadata": {
        "colab": {
          "base_uri": "https://localhost:8080/"
        },
        "id": "dBWWo75PrLwT",
        "outputId": "5c9711c3-556f-4eef-ad5c-81aa9053345e"
      },
      "execution_count": 208,
      "outputs": [
        {
          "output_type": "execute_result",
          "data": {
            "text/plain": [
              "AREA                  0\n",
              "INT_SQFT              0\n",
              "DATE_SALE             0\n",
              "DIST_MAINROAD         0\n",
              "N_BEDROOM             1\n",
              "N_BATHROOM            5\n",
              "N_ROOM                0\n",
              "SALE_COND             0\n",
              "PARK_FACIL            0\n",
              "DATE_BUILD            0\n",
              "BUILDTYPE             0\n",
              "UTILITY_AVAIL         0\n",
              "STREET                0\n",
              "MZZONE                0\n",
              "QS_ROOMS              0\n",
              "QS_BATHROOM           0\n",
              "QS_BEDROOM            0\n",
              "QS_OVERALL           48\n",
              "REG_FEE               0\n",
              "COMMIS                0\n",
              "SALES_PRICE           0\n",
              "TOTAL_SALES_PRICE     0\n",
              "dtype: int64"
            ]
          },
          "metadata": {},
          "execution_count": 208
        }
      ]
    },
    {
      "cell_type": "code",
      "source": [
        "##N_BEDROOM  1  null values\n",
        "#N_BATHROOM  5\n",
        "#QS_OVERALL 48"
      ],
      "metadata": {
        "id": "IP-ZSKZ-rLhH"
      },
      "execution_count": 209,
      "outputs": []
    },
    {
      "cell_type": "code",
      "source": [
        "data['N_BEDROOM'] = data['N_BEDROOM'].fillna(data['N_BEDROOM'].mode()[0])"
      ],
      "metadata": {
        "id": "NOjv5VYbrLfZ"
      },
      "execution_count": 210,
      "outputs": []
    },
    {
      "cell_type": "code",
      "source": [
        "data['N_BATHROOM'] = data['N_BATHROOM'].fillna(data['N_BATHROOM'].mode()[0])"
      ],
      "metadata": {
        "id": "eFAV2NkyrLao"
      },
      "execution_count": 211,
      "outputs": []
    },
    {
      "cell_type": "code",
      "source": [
        "data['QS_OVERALL'] = data['QS_OVERALL'].fillna(data['QS_OVERALL'].mean())"
      ],
      "metadata": {
        "id": "J-cLjybrrLYt"
      },
      "execution_count": 212,
      "outputs": []
    },
    {
      "cell_type": "code",
      "source": [
        "## null value are fill with there mean values\n",
        "data.isnull().sum()"
      ],
      "metadata": {
        "colab": {
          "base_uri": "https://localhost:8080/"
        },
        "id": "kKzmZBqG51tD",
        "outputId": "b42ba59c-a943-4ee5-d721-e54d2e265d2a"
      },
      "execution_count": 213,
      "outputs": [
        {
          "output_type": "execute_result",
          "data": {
            "text/plain": [
              "AREA                 0\n",
              "INT_SQFT             0\n",
              "DATE_SALE            0\n",
              "DIST_MAINROAD        0\n",
              "N_BEDROOM            0\n",
              "N_BATHROOM           0\n",
              "N_ROOM               0\n",
              "SALE_COND            0\n",
              "PARK_FACIL           0\n",
              "DATE_BUILD           0\n",
              "BUILDTYPE            0\n",
              "UTILITY_AVAIL        0\n",
              "STREET               0\n",
              "MZZONE               0\n",
              "QS_ROOMS             0\n",
              "QS_BATHROOM          0\n",
              "QS_BEDROOM           0\n",
              "QS_OVERALL           0\n",
              "REG_FEE              0\n",
              "COMMIS               0\n",
              "SALES_PRICE          0\n",
              "TOTAL_SALES_PRICE    0\n",
              "dtype: int64"
            ]
          },
          "metadata": {},
          "execution_count": 213
        }
      ]
    },
    {
      "cell_type": "code",
      "source": [
        ""
      ],
      "metadata": {
        "id": "BCEyPWEmyH0Q"
      },
      "execution_count": 213,
      "outputs": []
    },
    {
      "cell_type": "markdown",
      "source": [
        "## now we want change the catgorical values to numerical values "
      ],
      "metadata": {
        "id": "BrGnJKB96LW-"
      }
    },
    {
      "cell_type": "code",
      "source": [
        "data.info()"
      ],
      "metadata": {
        "colab": {
          "base_uri": "https://localhost:8080/"
        },
        "id": "KTEvFZB051pu",
        "outputId": "3bc203f2-72ca-4c2c-e7a8-96ad293fb8af"
      },
      "execution_count": 214,
      "outputs": [
        {
          "output_type": "stream",
          "name": "stdout",
          "text": [
            "<class 'pandas.core.frame.DataFrame'>\n",
            "RangeIndex: 7109 entries, 0 to 7108\n",
            "Data columns (total 22 columns):\n",
            " #   Column             Non-Null Count  Dtype  \n",
            "---  ------             --------------  -----  \n",
            " 0   AREA               7109 non-null   object \n",
            " 1   INT_SQFT           7109 non-null   int64  \n",
            " 2   DATE_SALE          7109 non-null   object \n",
            " 3   DIST_MAINROAD      7109 non-null   int64  \n",
            " 4   N_BEDROOM          7109 non-null   float64\n",
            " 5   N_BATHROOM         7109 non-null   float64\n",
            " 6   N_ROOM             7109 non-null   int64  \n",
            " 7   SALE_COND          7109 non-null   object \n",
            " 8   PARK_FACIL         7109 non-null   object \n",
            " 9   DATE_BUILD         7109 non-null   object \n",
            " 10  BUILDTYPE          7109 non-null   object \n",
            " 11  UTILITY_AVAIL      7109 non-null   object \n",
            " 12  STREET             7109 non-null   object \n",
            " 13  MZZONE             7109 non-null   object \n",
            " 14  QS_ROOMS           7109 non-null   float64\n",
            " 15  QS_BATHROOM        7109 non-null   float64\n",
            " 16  QS_BEDROOM         7109 non-null   float64\n",
            " 17  QS_OVERALL         7109 non-null   float64\n",
            " 18  REG_FEE            7109 non-null   int64  \n",
            " 19  COMMIS             7109 non-null   int64  \n",
            " 20  SALES_PRICE        7109 non-null   int64  \n",
            " 21  TOTAL_SALES_PRICE  7109 non-null   int64  \n",
            "dtypes: float64(6), int64(7), object(9)\n",
            "memory usage: 1.2+ MB\n"
          ]
        }
      ]
    },
    {
      "cell_type": "code",
      "source": [
        "data.describe()"
      ],
      "metadata": {
        "colab": {
          "base_uri": "https://localhost:8080/",
          "height": 364
        },
        "id": "jWxs1BCIiBzw",
        "outputId": "525b7efe-885f-48af-df3a-9fd17448e61b"
      },
      "execution_count": 215,
      "outputs": [
        {
          "output_type": "execute_result",
          "data": {
            "text/plain": [
              "          INT_SQFT  DIST_MAINROAD    N_BEDROOM   N_BATHROOM       N_ROOM  \\\n",
              "count  7109.000000    7109.000000  7109.000000  7109.000000  7109.000000   \n",
              "mean   1382.073006      99.603179     1.636939     1.213110     3.688704   \n",
              "std     457.410902      57.403110     0.802881     0.409534     1.019099   \n",
              "min     500.000000       0.000000     1.000000     1.000000     2.000000   \n",
              "25%     993.000000      50.000000     1.000000     1.000000     3.000000   \n",
              "50%    1373.000000      99.000000     1.000000     1.000000     4.000000   \n",
              "75%    1744.000000     148.000000     2.000000     1.000000     4.000000   \n",
              "max    2500.000000     200.000000     4.000000     2.000000     6.000000   \n",
              "\n",
              "          QS_ROOMS  QS_BATHROOM   QS_BEDROOM   QS_OVERALL        REG_FEE  \\\n",
              "count  7109.000000  7109.000000  7109.000000  7109.000000    7109.000000   \n",
              "mean      3.517471     3.507244     3.485300     3.503254  376938.330708   \n",
              "std       0.891972     0.897834     0.887266     0.525440  143070.662010   \n",
              "min       2.000000     2.000000     2.000000     2.000000   71177.000000   \n",
              "25%       2.700000     2.700000     2.700000     3.130000  272406.000000   \n",
              "50%       3.500000     3.500000     3.500000     3.503254  349486.000000   \n",
              "75%       4.300000     4.300000     4.300000     3.880000  451562.000000   \n",
              "max       5.000000     5.000000     5.000000     4.970000  983922.000000   \n",
              "\n",
              "              COMMIS   SALES_PRICE  TOTAL_SALES_PRICE  \n",
              "count    7109.000000  7.109000e+03       7.109000e+03  \n",
              "mean   141005.726544  1.089491e+07       1.141285e+07  \n",
              "std     78768.093718  3.768603e+06       3.944957e+06  \n",
              "min      5055.000000  2.156875e+06       2.253935e+06  \n",
              "25%     84219.000000  8.272100e+06       8.645792e+06  \n",
              "50%    127628.000000  1.033505e+07       1.081953e+07  \n",
              "75%    184506.000000  1.299390e+07       1.361393e+07  \n",
              "max    495405.000000  2.366734e+07       2.496904e+07  "
            ],
            "text/html": [
              "\n",
              "  <div id=\"df-5ca09b64-c42f-41f9-b76a-a17f1a9f488d\">\n",
              "    <div class=\"colab-df-container\">\n",
              "      <div>\n",
              "<style scoped>\n",
              "    .dataframe tbody tr th:only-of-type {\n",
              "        vertical-align: middle;\n",
              "    }\n",
              "\n",
              "    .dataframe tbody tr th {\n",
              "        vertical-align: top;\n",
              "    }\n",
              "\n",
              "    .dataframe thead th {\n",
              "        text-align: right;\n",
              "    }\n",
              "</style>\n",
              "<table border=\"1\" class=\"dataframe\">\n",
              "  <thead>\n",
              "    <tr style=\"text-align: right;\">\n",
              "      <th></th>\n",
              "      <th>INT_SQFT</th>\n",
              "      <th>DIST_MAINROAD</th>\n",
              "      <th>N_BEDROOM</th>\n",
              "      <th>N_BATHROOM</th>\n",
              "      <th>N_ROOM</th>\n",
              "      <th>QS_ROOMS</th>\n",
              "      <th>QS_BATHROOM</th>\n",
              "      <th>QS_BEDROOM</th>\n",
              "      <th>QS_OVERALL</th>\n",
              "      <th>REG_FEE</th>\n",
              "      <th>COMMIS</th>\n",
              "      <th>SALES_PRICE</th>\n",
              "      <th>TOTAL_SALES_PRICE</th>\n",
              "    </tr>\n",
              "  </thead>\n",
              "  <tbody>\n",
              "    <tr>\n",
              "      <th>count</th>\n",
              "      <td>7109.000000</td>\n",
              "      <td>7109.000000</td>\n",
              "      <td>7109.000000</td>\n",
              "      <td>7109.000000</td>\n",
              "      <td>7109.000000</td>\n",
              "      <td>7109.000000</td>\n",
              "      <td>7109.000000</td>\n",
              "      <td>7109.000000</td>\n",
              "      <td>7109.000000</td>\n",
              "      <td>7109.000000</td>\n",
              "      <td>7109.000000</td>\n",
              "      <td>7.109000e+03</td>\n",
              "      <td>7.109000e+03</td>\n",
              "    </tr>\n",
              "    <tr>\n",
              "      <th>mean</th>\n",
              "      <td>1382.073006</td>\n",
              "      <td>99.603179</td>\n",
              "      <td>1.636939</td>\n",
              "      <td>1.213110</td>\n",
              "      <td>3.688704</td>\n",
              "      <td>3.517471</td>\n",
              "      <td>3.507244</td>\n",
              "      <td>3.485300</td>\n",
              "      <td>3.503254</td>\n",
              "      <td>376938.330708</td>\n",
              "      <td>141005.726544</td>\n",
              "      <td>1.089491e+07</td>\n",
              "      <td>1.141285e+07</td>\n",
              "    </tr>\n",
              "    <tr>\n",
              "      <th>std</th>\n",
              "      <td>457.410902</td>\n",
              "      <td>57.403110</td>\n",
              "      <td>0.802881</td>\n",
              "      <td>0.409534</td>\n",
              "      <td>1.019099</td>\n",
              "      <td>0.891972</td>\n",
              "      <td>0.897834</td>\n",
              "      <td>0.887266</td>\n",
              "      <td>0.525440</td>\n",
              "      <td>143070.662010</td>\n",
              "      <td>78768.093718</td>\n",
              "      <td>3.768603e+06</td>\n",
              "      <td>3.944957e+06</td>\n",
              "    </tr>\n",
              "    <tr>\n",
              "      <th>min</th>\n",
              "      <td>500.000000</td>\n",
              "      <td>0.000000</td>\n",
              "      <td>1.000000</td>\n",
              "      <td>1.000000</td>\n",
              "      <td>2.000000</td>\n",
              "      <td>2.000000</td>\n",
              "      <td>2.000000</td>\n",
              "      <td>2.000000</td>\n",
              "      <td>2.000000</td>\n",
              "      <td>71177.000000</td>\n",
              "      <td>5055.000000</td>\n",
              "      <td>2.156875e+06</td>\n",
              "      <td>2.253935e+06</td>\n",
              "    </tr>\n",
              "    <tr>\n",
              "      <th>25%</th>\n",
              "      <td>993.000000</td>\n",
              "      <td>50.000000</td>\n",
              "      <td>1.000000</td>\n",
              "      <td>1.000000</td>\n",
              "      <td>3.000000</td>\n",
              "      <td>2.700000</td>\n",
              "      <td>2.700000</td>\n",
              "      <td>2.700000</td>\n",
              "      <td>3.130000</td>\n",
              "      <td>272406.000000</td>\n",
              "      <td>84219.000000</td>\n",
              "      <td>8.272100e+06</td>\n",
              "      <td>8.645792e+06</td>\n",
              "    </tr>\n",
              "    <tr>\n",
              "      <th>50%</th>\n",
              "      <td>1373.000000</td>\n",
              "      <td>99.000000</td>\n",
              "      <td>1.000000</td>\n",
              "      <td>1.000000</td>\n",
              "      <td>4.000000</td>\n",
              "      <td>3.500000</td>\n",
              "      <td>3.500000</td>\n",
              "      <td>3.500000</td>\n",
              "      <td>3.503254</td>\n",
              "      <td>349486.000000</td>\n",
              "      <td>127628.000000</td>\n",
              "      <td>1.033505e+07</td>\n",
              "      <td>1.081953e+07</td>\n",
              "    </tr>\n",
              "    <tr>\n",
              "      <th>75%</th>\n",
              "      <td>1744.000000</td>\n",
              "      <td>148.000000</td>\n",
              "      <td>2.000000</td>\n",
              "      <td>1.000000</td>\n",
              "      <td>4.000000</td>\n",
              "      <td>4.300000</td>\n",
              "      <td>4.300000</td>\n",
              "      <td>4.300000</td>\n",
              "      <td>3.880000</td>\n",
              "      <td>451562.000000</td>\n",
              "      <td>184506.000000</td>\n",
              "      <td>1.299390e+07</td>\n",
              "      <td>1.361393e+07</td>\n",
              "    </tr>\n",
              "    <tr>\n",
              "      <th>max</th>\n",
              "      <td>2500.000000</td>\n",
              "      <td>200.000000</td>\n",
              "      <td>4.000000</td>\n",
              "      <td>2.000000</td>\n",
              "      <td>6.000000</td>\n",
              "      <td>5.000000</td>\n",
              "      <td>5.000000</td>\n",
              "      <td>5.000000</td>\n",
              "      <td>4.970000</td>\n",
              "      <td>983922.000000</td>\n",
              "      <td>495405.000000</td>\n",
              "      <td>2.366734e+07</td>\n",
              "      <td>2.496904e+07</td>\n",
              "    </tr>\n",
              "  </tbody>\n",
              "</table>\n",
              "</div>\n",
              "      <button class=\"colab-df-convert\" onclick=\"convertToInteractive('df-5ca09b64-c42f-41f9-b76a-a17f1a9f488d')\"\n",
              "              title=\"Convert this dataframe to an interactive table.\"\n",
              "              style=\"display:none;\">\n",
              "        \n",
              "  <svg xmlns=\"http://www.w3.org/2000/svg\" height=\"24px\"viewBox=\"0 0 24 24\"\n",
              "       width=\"24px\">\n",
              "    <path d=\"M0 0h24v24H0V0z\" fill=\"none\"/>\n",
              "    <path d=\"M18.56 5.44l.94 2.06.94-2.06 2.06-.94-2.06-.94-.94-2.06-.94 2.06-2.06.94zm-11 1L8.5 8.5l.94-2.06 2.06-.94-2.06-.94L8.5 2.5l-.94 2.06-2.06.94zm10 10l.94 2.06.94-2.06 2.06-.94-2.06-.94-.94-2.06-.94 2.06-2.06.94z\"/><path d=\"M17.41 7.96l-1.37-1.37c-.4-.4-.92-.59-1.43-.59-.52 0-1.04.2-1.43.59L10.3 9.45l-7.72 7.72c-.78.78-.78 2.05 0 2.83L4 21.41c.39.39.9.59 1.41.59.51 0 1.02-.2 1.41-.59l7.78-7.78 2.81-2.81c.8-.78.8-2.07 0-2.86zM5.41 20L4 18.59l7.72-7.72 1.47 1.35L5.41 20z\"/>\n",
              "  </svg>\n",
              "      </button>\n",
              "      \n",
              "  <style>\n",
              "    .colab-df-container {\n",
              "      display:flex;\n",
              "      flex-wrap:wrap;\n",
              "      gap: 12px;\n",
              "    }\n",
              "\n",
              "    .colab-df-convert {\n",
              "      background-color: #E8F0FE;\n",
              "      border: none;\n",
              "      border-radius: 50%;\n",
              "      cursor: pointer;\n",
              "      display: none;\n",
              "      fill: #1967D2;\n",
              "      height: 32px;\n",
              "      padding: 0 0 0 0;\n",
              "      width: 32px;\n",
              "    }\n",
              "\n",
              "    .colab-df-convert:hover {\n",
              "      background-color: #E2EBFA;\n",
              "      box-shadow: 0px 1px 2px rgba(60, 64, 67, 0.3), 0px 1px 3px 1px rgba(60, 64, 67, 0.15);\n",
              "      fill: #174EA6;\n",
              "    }\n",
              "\n",
              "    [theme=dark] .colab-df-convert {\n",
              "      background-color: #3B4455;\n",
              "      fill: #D2E3FC;\n",
              "    }\n",
              "\n",
              "    [theme=dark] .colab-df-convert:hover {\n",
              "      background-color: #434B5C;\n",
              "      box-shadow: 0px 1px 3px 1px rgba(0, 0, 0, 0.15);\n",
              "      filter: drop-shadow(0px 1px 2px rgba(0, 0, 0, 0.3));\n",
              "      fill: #FFFFFF;\n",
              "    }\n",
              "  </style>\n",
              "\n",
              "      <script>\n",
              "        const buttonEl =\n",
              "          document.querySelector('#df-5ca09b64-c42f-41f9-b76a-a17f1a9f488d button.colab-df-convert');\n",
              "        buttonEl.style.display =\n",
              "          google.colab.kernel.accessAllowed ? 'block' : 'none';\n",
              "\n",
              "        async function convertToInteractive(key) {\n",
              "          const element = document.querySelector('#df-5ca09b64-c42f-41f9-b76a-a17f1a9f488d');\n",
              "          const dataTable =\n",
              "            await google.colab.kernel.invokeFunction('convertToInteractive',\n",
              "                                                     [key], {});\n",
              "          if (!dataTable) return;\n",
              "\n",
              "          const docLinkHtml = 'Like what you see? Visit the ' +\n",
              "            '<a target=\"_blank\" href=https://colab.research.google.com/notebooks/data_table.ipynb>data table notebook</a>'\n",
              "            + ' to learn more about interactive tables.';\n",
              "          element.innerHTML = '';\n",
              "          dataTable['output_type'] = 'display_data';\n",
              "          await google.colab.output.renderOutput(dataTable, element);\n",
              "          const docLink = document.createElement('div');\n",
              "          docLink.innerHTML = docLinkHtml;\n",
              "          element.appendChild(docLink);\n",
              "        }\n",
              "      </script>\n",
              "    </div>\n",
              "  </div>\n",
              "  "
            ]
          },
          "metadata": {},
          "execution_count": 215
        }
      ]
    },
    {
      "cell_type": "code",
      "source": [
        "## there is 9 object columnes to chnage\n",
        "# take data_build and date _sales columns\n",
        "import datetime as dt\n",
        "data['DATE_BUILD'] =pd.to_datetime(data['DATE_BUILD'])\n",
        "data['DATE_SALE'] = pd.to_datetime(data['DATE_SALE'])\n",
        "\n"
      ],
      "metadata": {
        "id": "XCF2vAlD51l5"
      },
      "execution_count": 216,
      "outputs": []
    },
    {
      "cell_type": "code",
      "source": [
        "## create new colum and add age of house by calculat data_build and data_sale OF YEARS\n",
        "data['BUILD_YEARS'] = data['DATE_BUILD'].dt.year\n",
        "data['SOLD_YEARS'] = data['DATE_SALE'].dt.year\n",
        "\n",
        "data['AGE_OF_HOUSE'] =data['SOLD_YEARS']-data['BUILD_YEARS']\n",
        "data.AGE_OF_HOUSE"
      ],
      "metadata": {
        "colab": {
          "base_uri": "https://localhost:8080/"
        },
        "id": "y2AJL2Wu51gz",
        "outputId": "cb3a01db-7acb-4665-b78b-4d0d2687e299"
      },
      "execution_count": 217,
      "outputs": [
        {
          "output_type": "execute_result",
          "data": {
            "text/plain": [
              "0       44\n",
              "1       11\n",
              "2       20\n",
              "3       22\n",
              "4       30\n",
              "        ..\n",
              "7104    49\n",
              "7105     9\n",
              "7106    28\n",
              "7107    32\n",
              "7108    44\n",
              "Name: AGE_OF_HOUSE, Length: 7109, dtype: int64"
            ]
          },
          "metadata": {},
          "execution_count": 217
        }
      ]
    },
    {
      "cell_type": "code",
      "source": [
        "## NOW MERG THE AGE_OF_HOUSE IN COLUMN ADDED AND DROP DATE_BUILD AND DATE_SALE COLUMN\n",
        "data.drop(['DATE_BUILD','DATE_SALE','REG_FEE','COMMIS','SALES_PRICE'],axis=1,inplace=True)"
      ],
      "metadata": {
        "id": "c6wtB8xi51eu"
      },
      "execution_count": 218,
      "outputs": []
    },
    {
      "cell_type": "code",
      "source": [
        ""
      ],
      "metadata": {
        "id": "tL3Ya2cAO_R4"
      },
      "execution_count": 218,
      "outputs": []
    },
    {
      "cell_type": "code",
      "source": [
        "data.head()"
      ],
      "metadata": {
        "colab": {
          "base_uri": "https://localhost:8080/",
          "height": 270
        },
        "id": "jmVRzNHo51ac",
        "outputId": "700204db-9ebe-4c62-cd9d-d14f89c30bc7"
      },
      "execution_count": 219,
      "outputs": [
        {
          "output_type": "execute_result",
          "data": {
            "text/plain": [
              "         AREA  INT_SQFT  DIST_MAINROAD  N_BEDROOM  N_BATHROOM  N_ROOM  \\\n",
              "0  Karapakkam      1004            131        1.0         1.0       3   \n",
              "1  Anna Nagar      1986             26        2.0         1.0       5   \n",
              "2       Adyar       909             70        1.0         1.0       3   \n",
              "3   Velachery      1855             14        3.0         2.0       5   \n",
              "4  Karapakkam      1226             84        1.0         1.0       3   \n",
              "\n",
              "  SALE_COND PARK_FACIL   BUILDTYPE UTILITY_AVAIL  STREET MZZONE  QS_ROOMS  \\\n",
              "0  AbNormal        Yes  Commercial        AllPub   Paved      A       4.0   \n",
              "1  AbNormal         No  Commercial        AllPub  Gravel     RH       4.9   \n",
              "2  AbNormal        Yes  Commercial           ELO  Gravel     RL       4.1   \n",
              "3    Family         No      Others      No Sewer   Paved      I       4.7   \n",
              "4  AbNormal        Yes      Others        AllPub  Gravel      C       3.0   \n",
              "\n",
              "   QS_BATHROOM  QS_BEDROOM  QS_OVERALL  TOTAL_SALES_PRICE  BUILD_YEARS  \\\n",
              "0          3.9         4.9       4.330            8124400         1967   \n",
              "1          4.2         2.5       3.765           22781941         1995   \n",
              "2          3.8         2.2       3.090           13672408         1992   \n",
              "3          3.9         3.6       4.010           10063653         1988   \n",
              "4          2.5         4.1       3.290            7717313         1979   \n",
              "\n",
              "   SOLD_YEARS  AGE_OF_HOUSE  \n",
              "0        2011            44  \n",
              "1        2006            11  \n",
              "2        2012            20  \n",
              "3        2010            22  \n",
              "4        2009            30  "
            ],
            "text/html": [
              "\n",
              "  <div id=\"df-3e72e8e3-4fd6-4595-b629-d2792b6db750\">\n",
              "    <div class=\"colab-df-container\">\n",
              "      <div>\n",
              "<style scoped>\n",
              "    .dataframe tbody tr th:only-of-type {\n",
              "        vertical-align: middle;\n",
              "    }\n",
              "\n",
              "    .dataframe tbody tr th {\n",
              "        vertical-align: top;\n",
              "    }\n",
              "\n",
              "    .dataframe thead th {\n",
              "        text-align: right;\n",
              "    }\n",
              "</style>\n",
              "<table border=\"1\" class=\"dataframe\">\n",
              "  <thead>\n",
              "    <tr style=\"text-align: right;\">\n",
              "      <th></th>\n",
              "      <th>AREA</th>\n",
              "      <th>INT_SQFT</th>\n",
              "      <th>DIST_MAINROAD</th>\n",
              "      <th>N_BEDROOM</th>\n",
              "      <th>N_BATHROOM</th>\n",
              "      <th>N_ROOM</th>\n",
              "      <th>SALE_COND</th>\n",
              "      <th>PARK_FACIL</th>\n",
              "      <th>BUILDTYPE</th>\n",
              "      <th>UTILITY_AVAIL</th>\n",
              "      <th>STREET</th>\n",
              "      <th>MZZONE</th>\n",
              "      <th>QS_ROOMS</th>\n",
              "      <th>QS_BATHROOM</th>\n",
              "      <th>QS_BEDROOM</th>\n",
              "      <th>QS_OVERALL</th>\n",
              "      <th>TOTAL_SALES_PRICE</th>\n",
              "      <th>BUILD_YEARS</th>\n",
              "      <th>SOLD_YEARS</th>\n",
              "      <th>AGE_OF_HOUSE</th>\n",
              "    </tr>\n",
              "  </thead>\n",
              "  <tbody>\n",
              "    <tr>\n",
              "      <th>0</th>\n",
              "      <td>Karapakkam</td>\n",
              "      <td>1004</td>\n",
              "      <td>131</td>\n",
              "      <td>1.0</td>\n",
              "      <td>1.0</td>\n",
              "      <td>3</td>\n",
              "      <td>AbNormal</td>\n",
              "      <td>Yes</td>\n",
              "      <td>Commercial</td>\n",
              "      <td>AllPub</td>\n",
              "      <td>Paved</td>\n",
              "      <td>A</td>\n",
              "      <td>4.0</td>\n",
              "      <td>3.9</td>\n",
              "      <td>4.9</td>\n",
              "      <td>4.330</td>\n",
              "      <td>8124400</td>\n",
              "      <td>1967</td>\n",
              "      <td>2011</td>\n",
              "      <td>44</td>\n",
              "    </tr>\n",
              "    <tr>\n",
              "      <th>1</th>\n",
              "      <td>Anna Nagar</td>\n",
              "      <td>1986</td>\n",
              "      <td>26</td>\n",
              "      <td>2.0</td>\n",
              "      <td>1.0</td>\n",
              "      <td>5</td>\n",
              "      <td>AbNormal</td>\n",
              "      <td>No</td>\n",
              "      <td>Commercial</td>\n",
              "      <td>AllPub</td>\n",
              "      <td>Gravel</td>\n",
              "      <td>RH</td>\n",
              "      <td>4.9</td>\n",
              "      <td>4.2</td>\n",
              "      <td>2.5</td>\n",
              "      <td>3.765</td>\n",
              "      <td>22781941</td>\n",
              "      <td>1995</td>\n",
              "      <td>2006</td>\n",
              "      <td>11</td>\n",
              "    </tr>\n",
              "    <tr>\n",
              "      <th>2</th>\n",
              "      <td>Adyar</td>\n",
              "      <td>909</td>\n",
              "      <td>70</td>\n",
              "      <td>1.0</td>\n",
              "      <td>1.0</td>\n",
              "      <td>3</td>\n",
              "      <td>AbNormal</td>\n",
              "      <td>Yes</td>\n",
              "      <td>Commercial</td>\n",
              "      <td>ELO</td>\n",
              "      <td>Gravel</td>\n",
              "      <td>RL</td>\n",
              "      <td>4.1</td>\n",
              "      <td>3.8</td>\n",
              "      <td>2.2</td>\n",
              "      <td>3.090</td>\n",
              "      <td>13672408</td>\n",
              "      <td>1992</td>\n",
              "      <td>2012</td>\n",
              "      <td>20</td>\n",
              "    </tr>\n",
              "    <tr>\n",
              "      <th>3</th>\n",
              "      <td>Velachery</td>\n",
              "      <td>1855</td>\n",
              "      <td>14</td>\n",
              "      <td>3.0</td>\n",
              "      <td>2.0</td>\n",
              "      <td>5</td>\n",
              "      <td>Family</td>\n",
              "      <td>No</td>\n",
              "      <td>Others</td>\n",
              "      <td>No Sewer</td>\n",
              "      <td>Paved</td>\n",
              "      <td>I</td>\n",
              "      <td>4.7</td>\n",
              "      <td>3.9</td>\n",
              "      <td>3.6</td>\n",
              "      <td>4.010</td>\n",
              "      <td>10063653</td>\n",
              "      <td>1988</td>\n",
              "      <td>2010</td>\n",
              "      <td>22</td>\n",
              "    </tr>\n",
              "    <tr>\n",
              "      <th>4</th>\n",
              "      <td>Karapakkam</td>\n",
              "      <td>1226</td>\n",
              "      <td>84</td>\n",
              "      <td>1.0</td>\n",
              "      <td>1.0</td>\n",
              "      <td>3</td>\n",
              "      <td>AbNormal</td>\n",
              "      <td>Yes</td>\n",
              "      <td>Others</td>\n",
              "      <td>AllPub</td>\n",
              "      <td>Gravel</td>\n",
              "      <td>C</td>\n",
              "      <td>3.0</td>\n",
              "      <td>2.5</td>\n",
              "      <td>4.1</td>\n",
              "      <td>3.290</td>\n",
              "      <td>7717313</td>\n",
              "      <td>1979</td>\n",
              "      <td>2009</td>\n",
              "      <td>30</td>\n",
              "    </tr>\n",
              "  </tbody>\n",
              "</table>\n",
              "</div>\n",
              "      <button class=\"colab-df-convert\" onclick=\"convertToInteractive('df-3e72e8e3-4fd6-4595-b629-d2792b6db750')\"\n",
              "              title=\"Convert this dataframe to an interactive table.\"\n",
              "              style=\"display:none;\">\n",
              "        \n",
              "  <svg xmlns=\"http://www.w3.org/2000/svg\" height=\"24px\"viewBox=\"0 0 24 24\"\n",
              "       width=\"24px\">\n",
              "    <path d=\"M0 0h24v24H0V0z\" fill=\"none\"/>\n",
              "    <path d=\"M18.56 5.44l.94 2.06.94-2.06 2.06-.94-2.06-.94-.94-2.06-.94 2.06-2.06.94zm-11 1L8.5 8.5l.94-2.06 2.06-.94-2.06-.94L8.5 2.5l-.94 2.06-2.06.94zm10 10l.94 2.06.94-2.06 2.06-.94-2.06-.94-.94-2.06-.94 2.06-2.06.94z\"/><path d=\"M17.41 7.96l-1.37-1.37c-.4-.4-.92-.59-1.43-.59-.52 0-1.04.2-1.43.59L10.3 9.45l-7.72 7.72c-.78.78-.78 2.05 0 2.83L4 21.41c.39.39.9.59 1.41.59.51 0 1.02-.2 1.41-.59l7.78-7.78 2.81-2.81c.8-.78.8-2.07 0-2.86zM5.41 20L4 18.59l7.72-7.72 1.47 1.35L5.41 20z\"/>\n",
              "  </svg>\n",
              "      </button>\n",
              "      \n",
              "  <style>\n",
              "    .colab-df-container {\n",
              "      display:flex;\n",
              "      flex-wrap:wrap;\n",
              "      gap: 12px;\n",
              "    }\n",
              "\n",
              "    .colab-df-convert {\n",
              "      background-color: #E8F0FE;\n",
              "      border: none;\n",
              "      border-radius: 50%;\n",
              "      cursor: pointer;\n",
              "      display: none;\n",
              "      fill: #1967D2;\n",
              "      height: 32px;\n",
              "      padding: 0 0 0 0;\n",
              "      width: 32px;\n",
              "    }\n",
              "\n",
              "    .colab-df-convert:hover {\n",
              "      background-color: #E2EBFA;\n",
              "      box-shadow: 0px 1px 2px rgba(60, 64, 67, 0.3), 0px 1px 3px 1px rgba(60, 64, 67, 0.15);\n",
              "      fill: #174EA6;\n",
              "    }\n",
              "\n",
              "    [theme=dark] .colab-df-convert {\n",
              "      background-color: #3B4455;\n",
              "      fill: #D2E3FC;\n",
              "    }\n",
              "\n",
              "    [theme=dark] .colab-df-convert:hover {\n",
              "      background-color: #434B5C;\n",
              "      box-shadow: 0px 1px 3px 1px rgba(0, 0, 0, 0.15);\n",
              "      filter: drop-shadow(0px 1px 2px rgba(0, 0, 0, 0.3));\n",
              "      fill: #FFFFFF;\n",
              "    }\n",
              "  </style>\n",
              "\n",
              "      <script>\n",
              "        const buttonEl =\n",
              "          document.querySelector('#df-3e72e8e3-4fd6-4595-b629-d2792b6db750 button.colab-df-convert');\n",
              "        buttonEl.style.display =\n",
              "          google.colab.kernel.accessAllowed ? 'block' : 'none';\n",
              "\n",
              "        async function convertToInteractive(key) {\n",
              "          const element = document.querySelector('#df-3e72e8e3-4fd6-4595-b629-d2792b6db750');\n",
              "          const dataTable =\n",
              "            await google.colab.kernel.invokeFunction('convertToInteractive',\n",
              "                                                     [key], {});\n",
              "          if (!dataTable) return;\n",
              "\n",
              "          const docLinkHtml = 'Like what you see? Visit the ' +\n",
              "            '<a target=\"_blank\" href=https://colab.research.google.com/notebooks/data_table.ipynb>data table notebook</a>'\n",
              "            + ' to learn more about interactive tables.';\n",
              "          element.innerHTML = '';\n",
              "          dataTable['output_type'] = 'display_data';\n",
              "          await google.colab.output.renderOutput(dataTable, element);\n",
              "          const docLink = document.createElement('div');\n",
              "          docLink.innerHTML = docLinkHtml;\n",
              "          element.appendChild(docLink);\n",
              "        }\n",
              "      </script>\n",
              "    </div>\n",
              "  </div>\n",
              "  "
            ]
          },
          "metadata": {},
          "execution_count": 219
        }
      ]
    },
    {
      "cell_type": "code",
      "source": [
        "data.describe()"
      ],
      "metadata": {
        "colab": {
          "base_uri": "https://localhost:8080/",
          "height": 364
        },
        "id": "xp99RuyDFFZ-",
        "outputId": "57f38f69-12bf-42ce-9f71-323428456c07"
      },
      "execution_count": 220,
      "outputs": [
        {
          "output_type": "execute_result",
          "data": {
            "text/plain": [
              "          INT_SQFT  DIST_MAINROAD    N_BEDROOM   N_BATHROOM       N_ROOM  \\\n",
              "count  7109.000000    7109.000000  7109.000000  7109.000000  7109.000000   \n",
              "mean   1382.073006      99.603179     1.636939     1.213110     3.688704   \n",
              "std     457.410902      57.403110     0.802881     0.409534     1.019099   \n",
              "min     500.000000       0.000000     1.000000     1.000000     2.000000   \n",
              "25%     993.000000      50.000000     1.000000     1.000000     3.000000   \n",
              "50%    1373.000000      99.000000     1.000000     1.000000     4.000000   \n",
              "75%    1744.000000     148.000000     2.000000     1.000000     4.000000   \n",
              "max    2500.000000     200.000000     4.000000     2.000000     6.000000   \n",
              "\n",
              "          QS_ROOMS  QS_BATHROOM   QS_BEDROOM   QS_OVERALL  TOTAL_SALES_PRICE  \\\n",
              "count  7109.000000  7109.000000  7109.000000  7109.000000       7.109000e+03   \n",
              "mean      3.517471     3.507244     3.485300     3.503254       1.141285e+07   \n",
              "std       0.891972     0.897834     0.887266     0.525440       3.944957e+06   \n",
              "min       2.000000     2.000000     2.000000     2.000000       2.253935e+06   \n",
              "25%       2.700000     2.700000     2.700000     3.130000       8.645792e+06   \n",
              "50%       3.500000     3.500000     3.500000     3.503254       1.081953e+07   \n",
              "75%       4.300000     4.300000     4.300000     3.880000       1.361393e+07   \n",
              "max       5.000000     5.000000     5.000000     4.970000       2.496904e+07   \n",
              "\n",
              "       BUILD_YEARS   SOLD_YEARS  AGE_OF_HOUSE  \n",
              "count  7109.000000  7109.000000   7109.000000  \n",
              "mean   1985.491912  2009.768181     24.276270  \n",
              "std      12.648859     2.205979     12.334164  \n",
              "min    1949.000000  2004.000000      3.000000  \n",
              "25%    1976.000000  2008.000000     14.000000  \n",
              "50%    1986.000000  2010.000000     23.000000  \n",
              "75%    1996.000000  2011.000000     34.000000  \n",
              "max    2010.000000  2015.000000     55.000000  "
            ],
            "text/html": [
              "\n",
              "  <div id=\"df-b272f3c9-8d2c-487e-9ca2-cb64c906c5c6\">\n",
              "    <div class=\"colab-df-container\">\n",
              "      <div>\n",
              "<style scoped>\n",
              "    .dataframe tbody tr th:only-of-type {\n",
              "        vertical-align: middle;\n",
              "    }\n",
              "\n",
              "    .dataframe tbody tr th {\n",
              "        vertical-align: top;\n",
              "    }\n",
              "\n",
              "    .dataframe thead th {\n",
              "        text-align: right;\n",
              "    }\n",
              "</style>\n",
              "<table border=\"1\" class=\"dataframe\">\n",
              "  <thead>\n",
              "    <tr style=\"text-align: right;\">\n",
              "      <th></th>\n",
              "      <th>INT_SQFT</th>\n",
              "      <th>DIST_MAINROAD</th>\n",
              "      <th>N_BEDROOM</th>\n",
              "      <th>N_BATHROOM</th>\n",
              "      <th>N_ROOM</th>\n",
              "      <th>QS_ROOMS</th>\n",
              "      <th>QS_BATHROOM</th>\n",
              "      <th>QS_BEDROOM</th>\n",
              "      <th>QS_OVERALL</th>\n",
              "      <th>TOTAL_SALES_PRICE</th>\n",
              "      <th>BUILD_YEARS</th>\n",
              "      <th>SOLD_YEARS</th>\n",
              "      <th>AGE_OF_HOUSE</th>\n",
              "    </tr>\n",
              "  </thead>\n",
              "  <tbody>\n",
              "    <tr>\n",
              "      <th>count</th>\n",
              "      <td>7109.000000</td>\n",
              "      <td>7109.000000</td>\n",
              "      <td>7109.000000</td>\n",
              "      <td>7109.000000</td>\n",
              "      <td>7109.000000</td>\n",
              "      <td>7109.000000</td>\n",
              "      <td>7109.000000</td>\n",
              "      <td>7109.000000</td>\n",
              "      <td>7109.000000</td>\n",
              "      <td>7.109000e+03</td>\n",
              "      <td>7109.000000</td>\n",
              "      <td>7109.000000</td>\n",
              "      <td>7109.000000</td>\n",
              "    </tr>\n",
              "    <tr>\n",
              "      <th>mean</th>\n",
              "      <td>1382.073006</td>\n",
              "      <td>99.603179</td>\n",
              "      <td>1.636939</td>\n",
              "      <td>1.213110</td>\n",
              "      <td>3.688704</td>\n",
              "      <td>3.517471</td>\n",
              "      <td>3.507244</td>\n",
              "      <td>3.485300</td>\n",
              "      <td>3.503254</td>\n",
              "      <td>1.141285e+07</td>\n",
              "      <td>1985.491912</td>\n",
              "      <td>2009.768181</td>\n",
              "      <td>24.276270</td>\n",
              "    </tr>\n",
              "    <tr>\n",
              "      <th>std</th>\n",
              "      <td>457.410902</td>\n",
              "      <td>57.403110</td>\n",
              "      <td>0.802881</td>\n",
              "      <td>0.409534</td>\n",
              "      <td>1.019099</td>\n",
              "      <td>0.891972</td>\n",
              "      <td>0.897834</td>\n",
              "      <td>0.887266</td>\n",
              "      <td>0.525440</td>\n",
              "      <td>3.944957e+06</td>\n",
              "      <td>12.648859</td>\n",
              "      <td>2.205979</td>\n",
              "      <td>12.334164</td>\n",
              "    </tr>\n",
              "    <tr>\n",
              "      <th>min</th>\n",
              "      <td>500.000000</td>\n",
              "      <td>0.000000</td>\n",
              "      <td>1.000000</td>\n",
              "      <td>1.000000</td>\n",
              "      <td>2.000000</td>\n",
              "      <td>2.000000</td>\n",
              "      <td>2.000000</td>\n",
              "      <td>2.000000</td>\n",
              "      <td>2.000000</td>\n",
              "      <td>2.253935e+06</td>\n",
              "      <td>1949.000000</td>\n",
              "      <td>2004.000000</td>\n",
              "      <td>3.000000</td>\n",
              "    </tr>\n",
              "    <tr>\n",
              "      <th>25%</th>\n",
              "      <td>993.000000</td>\n",
              "      <td>50.000000</td>\n",
              "      <td>1.000000</td>\n",
              "      <td>1.000000</td>\n",
              "      <td>3.000000</td>\n",
              "      <td>2.700000</td>\n",
              "      <td>2.700000</td>\n",
              "      <td>2.700000</td>\n",
              "      <td>3.130000</td>\n",
              "      <td>8.645792e+06</td>\n",
              "      <td>1976.000000</td>\n",
              "      <td>2008.000000</td>\n",
              "      <td>14.000000</td>\n",
              "    </tr>\n",
              "    <tr>\n",
              "      <th>50%</th>\n",
              "      <td>1373.000000</td>\n",
              "      <td>99.000000</td>\n",
              "      <td>1.000000</td>\n",
              "      <td>1.000000</td>\n",
              "      <td>4.000000</td>\n",
              "      <td>3.500000</td>\n",
              "      <td>3.500000</td>\n",
              "      <td>3.500000</td>\n",
              "      <td>3.503254</td>\n",
              "      <td>1.081953e+07</td>\n",
              "      <td>1986.000000</td>\n",
              "      <td>2010.000000</td>\n",
              "      <td>23.000000</td>\n",
              "    </tr>\n",
              "    <tr>\n",
              "      <th>75%</th>\n",
              "      <td>1744.000000</td>\n",
              "      <td>148.000000</td>\n",
              "      <td>2.000000</td>\n",
              "      <td>1.000000</td>\n",
              "      <td>4.000000</td>\n",
              "      <td>4.300000</td>\n",
              "      <td>4.300000</td>\n",
              "      <td>4.300000</td>\n",
              "      <td>3.880000</td>\n",
              "      <td>1.361393e+07</td>\n",
              "      <td>1996.000000</td>\n",
              "      <td>2011.000000</td>\n",
              "      <td>34.000000</td>\n",
              "    </tr>\n",
              "    <tr>\n",
              "      <th>max</th>\n",
              "      <td>2500.000000</td>\n",
              "      <td>200.000000</td>\n",
              "      <td>4.000000</td>\n",
              "      <td>2.000000</td>\n",
              "      <td>6.000000</td>\n",
              "      <td>5.000000</td>\n",
              "      <td>5.000000</td>\n",
              "      <td>5.000000</td>\n",
              "      <td>4.970000</td>\n",
              "      <td>2.496904e+07</td>\n",
              "      <td>2010.000000</td>\n",
              "      <td>2015.000000</td>\n",
              "      <td>55.000000</td>\n",
              "    </tr>\n",
              "  </tbody>\n",
              "</table>\n",
              "</div>\n",
              "      <button class=\"colab-df-convert\" onclick=\"convertToInteractive('df-b272f3c9-8d2c-487e-9ca2-cb64c906c5c6')\"\n",
              "              title=\"Convert this dataframe to an interactive table.\"\n",
              "              style=\"display:none;\">\n",
              "        \n",
              "  <svg xmlns=\"http://www.w3.org/2000/svg\" height=\"24px\"viewBox=\"0 0 24 24\"\n",
              "       width=\"24px\">\n",
              "    <path d=\"M0 0h24v24H0V0z\" fill=\"none\"/>\n",
              "    <path d=\"M18.56 5.44l.94 2.06.94-2.06 2.06-.94-2.06-.94-.94-2.06-.94 2.06-2.06.94zm-11 1L8.5 8.5l.94-2.06 2.06-.94-2.06-.94L8.5 2.5l-.94 2.06-2.06.94zm10 10l.94 2.06.94-2.06 2.06-.94-2.06-.94-.94-2.06-.94 2.06-2.06.94z\"/><path d=\"M17.41 7.96l-1.37-1.37c-.4-.4-.92-.59-1.43-.59-.52 0-1.04.2-1.43.59L10.3 9.45l-7.72 7.72c-.78.78-.78 2.05 0 2.83L4 21.41c.39.39.9.59 1.41.59.51 0 1.02-.2 1.41-.59l7.78-7.78 2.81-2.81c.8-.78.8-2.07 0-2.86zM5.41 20L4 18.59l7.72-7.72 1.47 1.35L5.41 20z\"/>\n",
              "  </svg>\n",
              "      </button>\n",
              "      \n",
              "  <style>\n",
              "    .colab-df-container {\n",
              "      display:flex;\n",
              "      flex-wrap:wrap;\n",
              "      gap: 12px;\n",
              "    }\n",
              "\n",
              "    .colab-df-convert {\n",
              "      background-color: #E8F0FE;\n",
              "      border: none;\n",
              "      border-radius: 50%;\n",
              "      cursor: pointer;\n",
              "      display: none;\n",
              "      fill: #1967D2;\n",
              "      height: 32px;\n",
              "      padding: 0 0 0 0;\n",
              "      width: 32px;\n",
              "    }\n",
              "\n",
              "    .colab-df-convert:hover {\n",
              "      background-color: #E2EBFA;\n",
              "      box-shadow: 0px 1px 2px rgba(60, 64, 67, 0.3), 0px 1px 3px 1px rgba(60, 64, 67, 0.15);\n",
              "      fill: #174EA6;\n",
              "    }\n",
              "\n",
              "    [theme=dark] .colab-df-convert {\n",
              "      background-color: #3B4455;\n",
              "      fill: #D2E3FC;\n",
              "    }\n",
              "\n",
              "    [theme=dark] .colab-df-convert:hover {\n",
              "      background-color: #434B5C;\n",
              "      box-shadow: 0px 1px 3px 1px rgba(0, 0, 0, 0.15);\n",
              "      filter: drop-shadow(0px 1px 2px rgba(0, 0, 0, 0.3));\n",
              "      fill: #FFFFFF;\n",
              "    }\n",
              "  </style>\n",
              "\n",
              "      <script>\n",
              "        const buttonEl =\n",
              "          document.querySelector('#df-b272f3c9-8d2c-487e-9ca2-cb64c906c5c6 button.colab-df-convert');\n",
              "        buttonEl.style.display =\n",
              "          google.colab.kernel.accessAllowed ? 'block' : 'none';\n",
              "\n",
              "        async function convertToInteractive(key) {\n",
              "          const element = document.querySelector('#df-b272f3c9-8d2c-487e-9ca2-cb64c906c5c6');\n",
              "          const dataTable =\n",
              "            await google.colab.kernel.invokeFunction('convertToInteractive',\n",
              "                                                     [key], {});\n",
              "          if (!dataTable) return;\n",
              "\n",
              "          const docLinkHtml = 'Like what you see? Visit the ' +\n",
              "            '<a target=\"_blank\" href=https://colab.research.google.com/notebooks/data_table.ipynb>data table notebook</a>'\n",
              "            + ' to learn more about interactive tables.';\n",
              "          element.innerHTML = '';\n",
              "          dataTable['output_type'] = 'display_data';\n",
              "          await google.colab.output.renderOutput(dataTable, element);\n",
              "          const docLink = document.createElement('div');\n",
              "          docLink.innerHTML = docLinkHtml;\n",
              "          element.appendChild(docLink);\n",
              "        }\n",
              "      </script>\n",
              "    </div>\n",
              "  </div>\n",
              "  "
            ]
          },
          "metadata": {},
          "execution_count": 220
        }
      ]
    },
    {
      "cell_type": "code",
      "source": [
        "data.shape"
      ],
      "metadata": {
        "colab": {
          "base_uri": "https://localhost:8080/"
        },
        "id": "MYy-A_dY51Yb",
        "outputId": "a7f817b1-222c-4737-87c9-b27788d505a7"
      },
      "execution_count": 221,
      "outputs": [
        {
          "output_type": "execute_result",
          "data": {
            "text/plain": [
              "(7109, 20)"
            ]
          },
          "metadata": {},
          "execution_count": 221
        }
      ]
    },
    {
      "cell_type": "markdown",
      "source": [
        "##**DATA VISUALISATION**"
      ],
      "metadata": {
        "id": "tflVvknBL7t2"
      }
    },
    {
      "cell_type": "code",
      "source": [
        "# DATA VISUALISATION BY USING matplotlib and seaborn to see DISTRIBUTION OF THE DATA.\n"
      ],
      "metadata": {
        "id": "bPMkMvv2pnDa"
      },
      "execution_count": 222,
      "outputs": []
    },
    {
      "cell_type": "code",
      "source": [
        "## BY GROUP IN COLUMN AND USING COUNT FUNCTION WE CAN SEE NUMBER OF VALUES CAN VISUZLISATIONZ\n",
        "## BY THE AREA WE CAN SEE HOW MANY HOUSE HAVE  TYPE OF STREET ARE THERE BY THAT WE CAN SEE WHAT ARE FACILITIES ARE THERE IN AREA\n",
        "a1=data['AREA'].groupby(data['STREET']).count()\n",
        "a1.head()"
      ],
      "metadata": {
        "colab": {
          "base_uri": "https://localhost:8080/"
        },
        "id": "mtLgBwNiGs3i",
        "outputId": "bca78cf8-ea8c-43b2-aae2-2b407d03c5ac"
      },
      "execution_count": 223,
      "outputs": [
        {
          "output_type": "execute_result",
          "data": {
            "text/plain": [
              "STREET\n",
              "Gravel       2520\n",
              "No Access    2017\n",
              "Paved        2572\n",
              "Name: AREA, dtype: int64"
            ]
          },
          "metadata": {},
          "execution_count": 223
        }
      ]
    },
    {
      "cell_type": "code",
      "source": [
        "a2= data['AREA'].groupby(data['PARK_FACIL']).count()\n",
        "a3=data['AREA'].groupby(data['BUILDTYPE']).count()\n",
        "a4 = data['AREA'].groupby(data['MZZONE']).count()\n",
        "a5= data['AREA'].groupby(data['UTILITY_AVAIL']).count()\n",
        "a6 = data['AREA'].groupby(data['AREA']).count()"
      ],
      "metadata": {
        "id": "Jbj056O2IDkC"
      },
      "execution_count": 224,
      "outputs": []
    },
    {
      "cell_type": "code",
      "source": [
        "## a1 NUMBER OF HOUSE HAVE STREET\n",
        "plt.figure(figsize=(20,16))\n",
        "plt.subplot(231)\n",
        "plt.xticks(rotation=15)\n",
        "plt.title('NO. OF HOUSES HAVE TYPE STREET ')\n",
        "sns.barplot(x=a1.index,y=a1.values,data=data,palette=\"Set3\")\n",
        "## A2 NUMBER OF HOUSE HAVE PARK_FACIK\n",
        "plt.figure(figsize=(20,16))\n",
        "plt.subplot(231)\n",
        "plt.xticks(rotation=15)\n",
        "plt.title('NO. OF HOUSES HAVE PARK_FACIL')\n",
        "sns.barplot(x=a2.index,y=a2.values,data=data,color='pink',palette=\"Set3\")\n",
        "plt.show()\n"
      ],
      "metadata": {
        "colab": {
          "base_uri": "https://localhost:8080/",
          "height": 959
        },
        "id": "dxPVdn0lpmfm",
        "outputId": "d621905a-e2c0-47e1-82ac-0b539da8a0f0"
      },
      "execution_count": 225,
      "outputs": [
        {
          "output_type": "display_data",
          "data": {
            "text/plain": [
              "<Figure size 1440x1152 with 1 Axes>"
            ],
            "image/png": "[encoded data removed]"
          },
          "metadata": {}
        },
        {
          "output_type": "display_data",
          "data": {
            "text/plain": [
              "<Figure size 1440x1152 with 1 Axes>"
            ],
            "image/png": "[encoded data removed]"
          },
          "metadata": {}
        }
      ]
    },
    {
      "cell_type": "markdown",
      "source": [
        "# FROM THE VISUZISATION\n",
        "\n",
        "1. **NUMBER OF HOUSES HAVE TYPE STREET**-FROM 7109 HOUSE HAS HIGH NUMBER OF Gravel  AND LEAST IS NO ACCESS .\n",
        " \n",
        "\n",
        "2.**NUMBER OF HOUSES HAVE PARK_FACIL**- FROM THE PLOT WE CAN SAW 50% HOUSE HAVE PARK AND ANOTHER 50% HOUSE DONT HAVE PARK\n",
        "    \n",
        "   \n",
        "\n"
      ],
      "metadata": {
        "id": "_3FlLbXkp5ET"
      }
    },
    {
      "cell_type": "code",
      "source": [
        "## A3 HAS NUMBER OF HOUSE ARE TYPE OF BUILD\n",
        "plt.figure(figsize=(20,16))\n",
        "plt.subplot(231)\n",
        "plt.xticks(rotation=15)\n",
        "plt.title('NO. OF TYPE OF BUILD')\n",
        "sns.barplot(x=a3.index,y=a3.values,data=data, palette=\"Blues_d\")\n",
        "# A4 HAS NUMBER OF HOUSE ARE MZZONE\n",
        "plt.figure(figsize=(20,16))\n",
        "plt.subplot(231)\n",
        "plt.xticks(rotation=15)\n",
        "plt.title('NO. OF HOUSE IN MZZONE')\n",
        "sns.barplot(x=a4.index,y=a4.values,data=data, palette=\"Blues_d\")\n"
      ],
      "metadata": {
        "colab": {
          "base_uri": "https://localhost:8080/",
          "height": 979
        },
        "id": "fqmmzIH-pmbm",
        "outputId": "dc7f9738-ebfe-4fb8-8e5d-4cef4b70c1bb"
      },
      "execution_count": 226,
      "outputs": [
        {
          "output_type": "execute_result",
          "data": {
            "text/plain": [
              "<matplotlib.axes._subplots.AxesSubplot at 0x7f9612ac3450>"
            ]
          },
          "metadata": {},
          "execution_count": 226
        },
        {
          "output_type": "display_data",
          "data": {
            "text/plain": [
              "<Figure size 1440x1152 with 1 Axes>"
            ],
            "image/png": "[encoded data removed]"
          },
          "metadata": {}
        },
        {
          "output_type": "display_data",
          "data": {
            "text/plain": [
              "<Figure size 1440x1152 with 1 Axes>"
            ],
            "image/png": "[encoded data removed]"
          },
          "metadata": {}
        }
      ]
    },
    {
      "cell_type": "markdown",
      "source": [
        "# FROM THE VISUZISATION\n",
        "\n",
        "1. **NUMBER OF  TYPE OF BUILD** -- COMPAR TO THREE TYPES OF BUILDING MAJOR HAS HOUSE AFTER THAT WE HAVE COMMERICAL BUILDING\n",
        "\n",
        "2.**NUMBER OF HOUSE IN MZZONE** -- FROM 7109 HOUSE MAJOR HOUSE IN RESDENICALY (HIGH, LOW,MEDIUM) WE HAVE AND ( A,C I ) HAVE MINIMUM HOUSE(LESS THAN 650)"
      ],
      "metadata": {
        "id": "Ecf81vFXjwzB"
      }
    },
    {
      "cell_type": "code",
      "source": [
        "## A5 HAS NUMBER OF HOUSE HAVE UTILITY AVAILABIL\n",
        "plt.figure(figsize=(20,16))\n",
        "plt.subplot(231)\n",
        "plt.xticks(rotation=15)\n",
        "plt.title('NO. OF HOUSE HAVE UTILITY_AVAIL')\n",
        "sns.barplot(x=a5.index,y=a5.values,data=data, palette=\"RdPu\")\n",
        "# A6 HAS NUMBER OF HOUSE ARE MZZONE\n",
        "plt.figure(figsize=(20,16))\n",
        "plt.subplot(231)\n",
        "plt.xticks(rotation=15)\n",
        "plt.title('NO. OF HOUSE IN AREA')\n",
        "sns.barplot(x=a6.index,y=a6.values,data=data, palette=\"RdPu\")\n"
      ],
      "metadata": {
        "colab": {
          "base_uri": "https://localhost:8080/",
          "height": 988
        },
        "id": "XV3SUZcApmZR",
        "outputId": "4fe91406-4fec-4d50-a0fb-76f2fb816bd4"
      },
      "execution_count": 227,
      "outputs": [
        {
          "output_type": "execute_result",
          "data": {
            "text/plain": [
              "<matplotlib.axes._subplots.AxesSubplot at 0x7f9623416190>"
            ]
          },
          "metadata": {},
          "execution_count": 227
        },
        {
          "output_type": "display_data",
          "data": {
            "text/plain": [
              "<Figure size 1440x1152 with 1 Axes>"
            ],
            "image/png": "[encoded data removed]"
          },
          "metadata": {}
        },
        {
          "output_type": "display_data",
          "data": {
            "text/plain": [
              "<Figure size 1440x1152 with 1 Axes>"
            ],
            "image/png": "[encoded data removed]"
          },
          "metadata": {}
        }
      ]
    },
    {
      "cell_type": "markdown",
      "source": [
        "# FROM THE VISUZISATION\n",
        "\n",
        "1. **NUMBER OF HOUSE HAVE UTILITY_AVAIL**-- FROM 7109 OF HOUSE MORE THAN (1750) HAVE ALLPUB, ELO, NO SEWA , NO SEWER  AND COMPARE TO THIS ELO LEES\n",
        "\n",
        "2.**NUMBER OF HOUSE IN AREA**-- HIGH NUMBER OF IN CHROMPET FROM THAT KARAPAKKAM(MORE THAN 1250 HOUSE) FROM THAT KK NAGAR (1000 NO.HOUSE)\n",
        "ADYAR AND ANNA NAGAR HAS (MORE THAN 750 HOUSE) AND T NAGAR HAS LESS NUMBER OF HOUSE( LESS THAN 600 )"
      ],
      "metadata": {
        "id": "Tij5fyTqM_Yj"
      }
    },
    {
      "cell_type": "code",
      "source": [
        ""
      ],
      "metadata": {
        "id": "PRNBG1hQpBpV"
      },
      "execution_count": 227,
      "outputs": []
    },
    {
      "cell_type": "code",
      "source": [
        "## FROM THIS VISUZISATION WE CAN ARANGE THE FOLLOWING FEATURE TO ENCONDING\n",
        "\n",
        "sns.set_theme(style=\"whitegrid\", palette=\"RdPu\",)\n",
        "plt.figure(figsize=(20,16))\n",
        "plt.subplot(231)\n",
        "sns.barplot(x='BUILDTYPE',y='TOTAL_SALES_PRICE',data=data,order=data.groupby('BUILDTYPE')['TOTAL_SALES_PRICE'].mean().reset_index().sort_values('TOTAL_SALES_PRICE')['BUILDTYPE'])\n",
        "plt.xticks(rotation=15)\n",
        "plt.title('MEAN TOTAL_SALES_PRICE vs BUILDTYPE')\n",
        "plt.subplot(232)\n",
        "sns.barplot(x='AREA',y='TOTAL_SALES_PRICE',data=data,order=data.groupby('AREA')['TOTAL_SALES_PRICE'].mean().reset_index().sort_values('TOTAL_SALES_PRICE')['AREA'])\n",
        "plt.xticks(rotation=15)\n",
        "plt.title('MEAN TOTAL_ SALES_PRICE vs AREA ')\n",
        "plt.subplot(233)\n",
        "sns.barplot(x='UTILITY_AVAIL',y='TOTAL_SALES_PRICE',data=data,order=data.groupby('UTILITY_AVAIL')['TOTAL_SALES_PRICE'].mean().reset_index().sort_values('TOTAL_SALES_PRICE')['UTILITY_AVAIL'])\n",
        "plt.xticks(rotation=15)\n",
        "plt.title('MEAN TOTAL_SALES_PRICE vs UTILITY_AVAIL')\n",
        "plt.subplot(234)\n",
        "sns.barplot(x='STREET',y='TOTAL_SALES_PRICE',data=data,order=data.groupby('STREET')['TOTAL_SALES_PRICE'].mean().reset_index().sort_values('TOTAL_SALES_PRICE')['STREET'])\n",
        "plt.xticks(rotation=15)\n",
        "plt.title('MEAN TOTAL_SALES_PRICE vs STREET ')\n",
        "plt.subplot(235)\n",
        "sns.barplot(x='PARK_FACIL',y='TOTAL_SALES_PRICE',data=data,order=data.groupby('PARK_FACIL')['TOTAL_SALES_PRICE'].mean().reset_index().sort_values('TOTAL_SALES_PRICE')['PARK_FACIL'])\n",
        "plt.xticks(rotation=15)\n",
        "plt.title('MEAN TOTAL_SALES_PRICE vs PARK_FACIL')\n",
        "plt.subplot(236)\n",
        "sns.barplot(x='MZZONE',y='TOTAL_SALES_PRICE',data=data,order=data.groupby('MZZONE')['TOTAL_SALES_PRICE'].mean().reset_index().sort_values('TOTAL_SALES_PRICE')['MZZONE'])\n",
        "plt.xticks(rotation=15)\n",
        "plt.title('MEAN TOTAL_SALES_PRICE vs MZZONE')\n",
        "plt.show()"
      ],
      "metadata": {
        "id": "xinT3QE5SeZN",
        "colab": {
          "base_uri": "https://localhost:8080/",
          "height": 967
        },
        "outputId": "193d3ebe-f759-4b90-89c6-ff9ca0f459ec"
      },
      "execution_count": 228,
      "outputs": [
        {
          "output_type": "display_data",
          "data": {
            "text/plain": [
              "<Figure size 1440x1152 with 6 Axes>"
            ],
            "image/png": "[encoded data removed]"
          },
          "metadata": {}
        }
      ]
    },
    {
      "cell_type": "markdown",
      "source": [
        "# FROM THE VISUZISATION \n",
        "\n",
        "1.**TOTAL_SALES_PRICE vs BUILDTYPE** -- COMMERICAL BUILDING IS HIGH SALES PRICES FOLLOWED OTHER TYPE BUILING AND LAST COUNT HAS HOUSE\n",
        "\n",
        "2.**TOTAL_ SALES_PRICE vs AREA** -- T ANGAR AND ANNA NAGAR HAS HIGH SALES PRICE AND FROM THAT KK ANGAR AND VELACHERY FOLLOWED BY THAT CHROMPET AND ADYAR AND THE LEST SALES PRICES COMPAR TO THIS AREA KARAPAKKAM HAS LESS SLAE PRICES AREA\n",
        "\n",
        "\n",
        "**UTILITY_AVAIL**  - MAJOR ALL UTILYT AVAILABLE FOR ALL AREA\n",
        "\n",
        "\n",
        ". AllPub All public Utilities (E,G,W,& S)\n",
        "\n",
        ". NoSewr Electricity, Gas, and Water (Septic Tank)\n",
        "\n",
        ". NoSeWa Electricity and Gas Only\n",
        "\n",
        ". ELO Electricity only\n",
        "\n",
        "** MZZONE ** - RM IS HIGH COMPARE TO ALL AND RL , RH FOLLOEWD BY RM AND C AND I LOW TO COMPARE TO RESIDENCY ARE A LEAST IS AGRICULTURE PRICES IS LESS\n",
        "\n",
        ". A = AGRICULTURE LAND\n",
        "\n",
        ". C = COMMERICAL LAND\n",
        "\n",
        ". IN = INDUSTRIAL LAND\n",
        "\n",
        ". RH = RESIDENTIAL HIGH\n",
        "\n",
        ". RL= RESIDENTICAL LOW\n",
        "\n",
        ". RM= RESIDENTICAL MEDIUM\n",
        "\n",
        "FROM THIS PLOT WE CAN DO ENODING "
      ],
      "metadata": {
        "id": "APdLOcqLbUfd"
      }
    },
    {
      "cell_type": "markdown",
      "source": [
        "# REALTION BETWEEN TARGET VARIABLE"
      ],
      "metadata": {
        "id": "-zITU6GDun3R"
      }
    },
    {
      "cell_type": "code",
      "source": [
        "data.columns"
      ],
      "metadata": {
        "colab": {
          "base_uri": "https://localhost:8080/"
        },
        "id": "Bxbean9FvA74",
        "outputId": "3831965a-c2ad-46ba-cc1b-c32c8c2a6ade"
      },
      "execution_count": 229,
      "outputs": [
        {
          "output_type": "execute_result",
          "data": {
            "text/plain": [
              "Index(['AREA', 'INT_SQFT', 'DIST_MAINROAD', 'N_BEDROOM', 'N_BATHROOM',\n",
              "       'N_ROOM', 'SALE_COND', 'PARK_FACIL', 'BUILDTYPE', 'UTILITY_AVAIL',\n",
              "       'STREET', 'MZZONE', 'QS_ROOMS', 'QS_BATHROOM', 'QS_BEDROOM',\n",
              "       'QS_OVERALL', 'TOTAL_SALES_PRICE', 'BUILD_YEARS', 'SOLD_YEARS',\n",
              "       'AGE_OF_HOUSE'],\n",
              "      dtype='object')"
            ]
          },
          "metadata": {},
          "execution_count": 229
        }
      ]
    },
    {
      "cell_type": "code",
      "source": [
        "## THIS FEATURE ARE IN COINTIUS VARIBALE  FIRST CHECK RELATION\n",
        "sns.set_theme(style=\"whitegrid\", palette=\"Set3\",)\n",
        "sns.pairplot(data,x_vars=[\"INT_SQFT\", \"AGE_OF_HOUSE\",\"SOLD_YEARS\",\"BUILD_YEARS\"], y_vars=[\"TOTAL_SALES_PRICE\"],\n",
        "             height=5,aspect=.8, kind=\"reg\",)\n",
        "plt.show()"
      ],
      "metadata": {
        "colab": {
          "base_uri": "https://localhost:8080/",
          "height": 372
        },
        "id": "hy21eRzMSeWg",
        "outputId": "8c05f598-4e6a-445c-db27-46d225495477"
      },
      "execution_count": 230,
      "outputs": [
        {
          "output_type": "display_data",
          "data": {
            "text/plain": [
              "<Figure size 1152x360 with 4 Axes>"
            ],
            "image/png": "[encoded data removed]"
          },
          "metadata": {}
        }
      ]
    },
    {
      "cell_type": "code",
      "source": [
        "sns.pairplot(data,x_vars=[\"QS_ROOMS\", \"QS_BATHROOM\",\"QS_BEDROOM\",\"QS_OVERALL\"], y_vars=[\"TOTAL_SALES_PRICE\"],\n",
        "             height=5, aspect=.8, kind=\"reg\")\n",
        "plt.show()"
      ],
      "metadata": {
        "colab": {
          "base_uri": "https://localhost:8080/",
          "height": 372
        },
        "id": "D0IqCoX4wg9R",
        "outputId": "10f92648-adb8-49b4-d084-ed8f45658270"
      },
      "execution_count": 231,
      "outputs": [
        {
          "output_type": "display_data",
          "data": {
            "text/plain": [
              "<Figure size 1152x360 with 4 Axes>"
            ],
            "image/png": "[encoded data removed]"
          },
          "metadata": {}
        }
      ]
    },
    {
      "cell_type": "code",
      "source": [
        "sns.pairplot(data,x_vars=[\"N_BEDROOM\", \"N_BATHROOM\",\"N_ROOM\"], y_vars=[\"TOTAL_SALES_PRICE\"],\n",
        "             height=5, aspect=.8, kind=\"reg\")\n",
        "plt.show()"
      ],
      "metadata": {
        "colab": {
          "base_uri": "https://localhost:8080/",
          "height": 372
        },
        "id": "MOrGrSSxfHA1",
        "outputId": "4f2996ac-d053-4d34-807f-b8c0fce2854c"
      },
      "execution_count": 232,
      "outputs": [
        {
          "output_type": "display_data",
          "data": {
            "text/plain": [
              "<Figure size 864x360 with 3 Axes>"
            ],
            "image/png": "[encoded data removed]"
          },
          "metadata": {}
        }
      ]
    },
    {
      "cell_type": "code",
      "source": [
        "data.columns"
      ],
      "metadata": {
        "colab": {
          "base_uri": "https://localhost:8080/"
        },
        "id": "rtePx7kEfXZ5",
        "outputId": "cbe7e263-7184-405e-b490-046e937f08d3"
      },
      "execution_count": 233,
      "outputs": [
        {
          "output_type": "execute_result",
          "data": {
            "text/plain": [
              "Index(['AREA', 'INT_SQFT', 'DIST_MAINROAD', 'N_BEDROOM', 'N_BATHROOM',\n",
              "       'N_ROOM', 'SALE_COND', 'PARK_FACIL', 'BUILDTYPE', 'UTILITY_AVAIL',\n",
              "       'STREET', 'MZZONE', 'QS_ROOMS', 'QS_BATHROOM', 'QS_BEDROOM',\n",
              "       'QS_OVERALL', 'TOTAL_SALES_PRICE', 'BUILD_YEARS', 'SOLD_YEARS',\n",
              "       'AGE_OF_HOUSE'],\n",
              "      dtype='object')"
            ]
          },
          "metadata": {},
          "execution_count": 233
        }
      ]
    },
    {
      "cell_type": "markdown",
      "source": [
        "# FROM REALTION BETWEEN TARGET VARIABLE\n",
        "\n",
        " ** THERE IS LINEAR RELATION BETWEEN TARGET ARE:**\n",
        "   * INT_SQFT , N_BEDROM , N_ROOM,\n",
        "     \n",
        "  **NO LINEAR RELATION BETWWEN TARGET ARE:**\n",
        "    \n",
        "    * N_BATHROOM , QS_OVERALL ,QS_BATHROOM , QS_BEDROOM ,BUILD YEARS ,SOLD_YEARS , AGE_OF_HOUSE \n",
        "  "
      ],
      "metadata": {
        "id": "MYG7IwF-d0P-"
      }
    },
    {
      "cell_type": "markdown",
      "source": [
        "# ENCODING FOR CATEGORICAL FEATURES."
      ],
      "metadata": {
        "id": "FboIo-aup8E_"
      }
    },
    {
      "cell_type": "code",
      "source": [
        "## IMPORT THE LIBARY FOR ENCODING \n",
        "#from sklearn.preprocessing import LabelEncoder\n",
        "#lb=LabelEncoder()"
      ],
      "metadata": {
        "id": "GqP8IyYrwg0p"
      },
      "execution_count": 234,
      "outputs": []
    },
    {
      "cell_type": "code",
      "source": [
        "data.head()"
      ],
      "metadata": {
        "colab": {
          "base_uri": "https://localhost:8080/",
          "height": 270
        },
        "id": "xljRI8zhwgqF",
        "outputId": "cb4f82f7-2c9c-4d33-f7c7-77d9ce41b8b8"
      },
      "execution_count": 235,
      "outputs": [
        {
          "output_type": "execute_result",
          "data": {
            "text/plain": [
              "         AREA  INT_SQFT  DIST_MAINROAD  N_BEDROOM  N_BATHROOM  N_ROOM  \\\n",
              "0  Karapakkam      1004            131        1.0         1.0       3   \n",
              "1  Anna Nagar      1986             26        2.0         1.0       5   \n",
              "2       Adyar       909             70        1.0         1.0       3   \n",
              "3   Velachery      1855             14        3.0         2.0       5   \n",
              "4  Karapakkam      1226             84        1.0         1.0       3   \n",
              "\n",
              "  SALE_COND PARK_FACIL   BUILDTYPE UTILITY_AVAIL  STREET MZZONE  QS_ROOMS  \\\n",
              "0  AbNormal        Yes  Commercial        AllPub   Paved      A       4.0   \n",
              "1  AbNormal         No  Commercial        AllPub  Gravel     RH       4.9   \n",
              "2  AbNormal        Yes  Commercial           ELO  Gravel     RL       4.1   \n",
              "3    Family         No      Others      No Sewer   Paved      I       4.7   \n",
              "4  AbNormal        Yes      Others        AllPub  Gravel      C       3.0   \n",
              "\n",
              "   QS_BATHROOM  QS_BEDROOM  QS_OVERALL  TOTAL_SALES_PRICE  BUILD_YEARS  \\\n",
              "0          3.9         4.9       4.330            8124400         1967   \n",
              "1          4.2         2.5       3.765           22781941         1995   \n",
              "2          3.8         2.2       3.090           13672408         1992   \n",
              "3          3.9         3.6       4.010           10063653         1988   \n",
              "4          2.5         4.1       3.290            7717313         1979   \n",
              "\n",
              "   SOLD_YEARS  AGE_OF_HOUSE  \n",
              "0        2011            44  \n",
              "1        2006            11  \n",
              "2        2012            20  \n",
              "3        2010            22  \n",
              "4        2009            30  "
            ],
            "text/html": [
              "\n",
              "  <div id=\"df-0fe80f8d-3db6-43e1-aea6-1c9f0e2a3f99\">\n",
              "    <div class=\"colab-df-container\">\n",
              "      <div>\n",
              "<style scoped>\n",
              "    .dataframe tbody tr th:only-of-type {\n",
              "        vertical-align: middle;\n",
              "    }\n",
              "\n",
              "    .dataframe tbody tr th {\n",
              "        vertical-align: top;\n",
              "    }\n",
              "\n",
              "    .dataframe thead th {\n",
              "        text-align: right;\n",
              "    }\n",
              "</style>\n",
              "<table border=\"1\" class=\"dataframe\">\n",
              "  <thead>\n",
              "    <tr style=\"text-align: right;\">\n",
              "      <th></th>\n",
              "      <th>AREA</th>\n",
              "      <th>INT_SQFT</th>\n",
              "      <th>DIST_MAINROAD</th>\n",
              "      <th>N_BEDROOM</th>\n",
              "      <th>N_BATHROOM</th>\n",
              "      <th>N_ROOM</th>\n",
              "      <th>SALE_COND</th>\n",
              "      <th>PARK_FACIL</th>\n",
              "      <th>BUILDTYPE</th>\n",
              "      <th>UTILITY_AVAIL</th>\n",
              "      <th>STREET</th>\n",
              "      <th>MZZONE</th>\n",
              "      <th>QS_ROOMS</th>\n",
              "      <th>QS_BATHROOM</th>\n",
              "      <th>QS_BEDROOM</th>\n",
              "      <th>QS_OVERALL</th>\n",
              "      <th>TOTAL_SALES_PRICE</th>\n",
              "      <th>BUILD_YEARS</th>\n",
              "      <th>SOLD_YEARS</th>\n",
              "      <th>AGE_OF_HOUSE</th>\n",
              "    </tr>\n",
              "  </thead>\n",
              "  <tbody>\n",
              "    <tr>\n",
              "      <th>0</th>\n",
              "      <td>Karapakkam</td>\n",
              "      <td>1004</td>\n",
              "      <td>131</td>\n",
              "      <td>1.0</td>\n",
              "      <td>1.0</td>\n",
              "      <td>3</td>\n",
              "      <td>AbNormal</td>\n",
              "      <td>Yes</td>\n",
              "      <td>Commercial</td>\n",
              "      <td>AllPub</td>\n",
              "      <td>Paved</td>\n",
              "      <td>A</td>\n",
              "      <td>4.0</td>\n",
              "      <td>3.9</td>\n",
              "      <td>4.9</td>\n",
              "      <td>4.330</td>\n",
              "      <td>8124400</td>\n",
              "      <td>1967</td>\n",
              "      <td>2011</td>\n",
              "      <td>44</td>\n",
              "    </tr>\n",
              "    <tr>\n",
              "      <th>1</th>\n",
              "      <td>Anna Nagar</td>\n",
              "      <td>1986</td>\n",
              "      <td>26</td>\n",
              "      <td>2.0</td>\n",
              "      <td>1.0</td>\n",
              "      <td>5</td>\n",
              "      <td>AbNormal</td>\n",
              "      <td>No</td>\n",
              "      <td>Commercial</td>\n",
              "      <td>AllPub</td>\n",
              "      <td>Gravel</td>\n",
              "      <td>RH</td>\n",
              "      <td>4.9</td>\n",
              "      <td>4.2</td>\n",
              "      <td>2.5</td>\n",
              "      <td>3.765</td>\n",
              "      <td>22781941</td>\n",
              "      <td>1995</td>\n",
              "      <td>2006</td>\n",
              "      <td>11</td>\n",
              "    </tr>\n",
              "    <tr>\n",
              "      <th>2</th>\n",
              "      <td>Adyar</td>\n",
              "      <td>909</td>\n",
              "      <td>70</td>\n",
              "      <td>1.0</td>\n",
              "      <td>1.0</td>\n",
              "      <td>3</td>\n",
              "      <td>AbNormal</td>\n",
              "      <td>Yes</td>\n",
              "      <td>Commercial</td>\n",
              "      <td>ELO</td>\n",
              "      <td>Gravel</td>\n",
              "      <td>RL</td>\n",
              "      <td>4.1</td>\n",
              "      <td>3.8</td>\n",
              "      <td>2.2</td>\n",
              "      <td>3.090</td>\n",
              "      <td>13672408</td>\n",
              "      <td>1992</td>\n",
              "      <td>2012</td>\n",
              "      <td>20</td>\n",
              "    </tr>\n",
              "    <tr>\n",
              "      <th>3</th>\n",
              "      <td>Velachery</td>\n",
              "      <td>1855</td>\n",
              "      <td>14</td>\n",
              "      <td>3.0</td>\n",
              "      <td>2.0</td>\n",
              "      <td>5</td>\n",
              "      <td>Family</td>\n",
              "      <td>No</td>\n",
              "      <td>Others</td>\n",
              "      <td>No Sewer</td>\n",
              "      <td>Paved</td>\n",
              "      <td>I</td>\n",
              "      <td>4.7</td>\n",
              "      <td>3.9</td>\n",
              "      <td>3.6</td>\n",
              "      <td>4.010</td>\n",
              "      <td>10063653</td>\n",
              "      <td>1988</td>\n",
              "      <td>2010</td>\n",
              "      <td>22</td>\n",
              "    </tr>\n",
              "    <tr>\n",
              "      <th>4</th>\n",
              "      <td>Karapakkam</td>\n",
              "      <td>1226</td>\n",
              "      <td>84</td>\n",
              "      <td>1.0</td>\n",
              "      <td>1.0</td>\n",
              "      <td>3</td>\n",
              "      <td>AbNormal</td>\n",
              "      <td>Yes</td>\n",
              "      <td>Others</td>\n",
              "      <td>AllPub</td>\n",
              "      <td>Gravel</td>\n",
              "      <td>C</td>\n",
              "      <td>3.0</td>\n",
              "      <td>2.5</td>\n",
              "      <td>4.1</td>\n",
              "      <td>3.290</td>\n",
              "      <td>7717313</td>\n",
              "      <td>1979</td>\n",
              "      <td>2009</td>\n",
              "      <td>30</td>\n",
              "    </tr>\n",
              "  </tbody>\n",
              "</table>\n",
              "</div>\n",
              "      <button class=\"colab-df-convert\" onclick=\"convertToInteractive('df-0fe80f8d-3db6-43e1-aea6-1c9f0e2a3f99')\"\n",
              "              title=\"Convert this dataframe to an interactive table.\"\n",
              "              style=\"display:none;\">\n",
              "        \n",
              "  <svg xmlns=\"http://www.w3.org/2000/svg\" height=\"24px\"viewBox=\"0 0 24 24\"\n",
              "       width=\"24px\">\n",
              "    <path d=\"M0 0h24v24H0V0z\" fill=\"none\"/>\n",
              "    <path d=\"M18.56 5.44l.94 2.06.94-2.06 2.06-.94-2.06-.94-.94-2.06-.94 2.06-2.06.94zm-11 1L8.5 8.5l.94-2.06 2.06-.94-2.06-.94L8.5 2.5l-.94 2.06-2.06.94zm10 10l.94 2.06.94-2.06 2.06-.94-2.06-.94-.94-2.06-.94 2.06-2.06.94z\"/><path d=\"M17.41 7.96l-1.37-1.37c-.4-.4-.92-.59-1.43-.59-.52 0-1.04.2-1.43.59L10.3 9.45l-7.72 7.72c-.78.78-.78 2.05 0 2.83L4 21.41c.39.39.9.59 1.41.59.51 0 1.02-.2 1.41-.59l7.78-7.78 2.81-2.81c.8-.78.8-2.07 0-2.86zM5.41 20L4 18.59l7.72-7.72 1.47 1.35L5.41 20z\"/>\n",
              "  </svg>\n",
              "      </button>\n",
              "      \n",
              "  <style>\n",
              "    .colab-df-container {\n",
              "      display:flex;\n",
              "      flex-wrap:wrap;\n",
              "      gap: 12px;\n",
              "    }\n",
              "\n",
              "    .colab-df-convert {\n",
              "      background-color: #E8F0FE;\n",
              "      border: none;\n",
              "      border-radius: 50%;\n",
              "      cursor: pointer;\n",
              "      display: none;\n",
              "      fill: #1967D2;\n",
              "      height: 32px;\n",
              "      padding: 0 0 0 0;\n",
              "      width: 32px;\n",
              "    }\n",
              "\n",
              "    .colab-df-convert:hover {\n",
              "      background-color: #E2EBFA;\n",
              "      box-shadow: 0px 1px 2px rgba(60, 64, 67, 0.3), 0px 1px 3px 1px rgba(60, 64, 67, 0.15);\n",
              "      fill: #174EA6;\n",
              "    }\n",
              "\n",
              "    [theme=dark] .colab-df-convert {\n",
              "      background-color: #3B4455;\n",
              "      fill: #D2E3FC;\n",
              "    }\n",
              "\n",
              "    [theme=dark] .colab-df-convert:hover {\n",
              "      background-color: #434B5C;\n",
              "      box-shadow: 0px 1px 3px 1px rgba(0, 0, 0, 0.15);\n",
              "      filter: drop-shadow(0px 1px 2px rgba(0, 0, 0, 0.3));\n",
              "      fill: #FFFFFF;\n",
              "    }\n",
              "  </style>\n",
              "\n",
              "      <script>\n",
              "        const buttonEl =\n",
              "          document.querySelector('#df-0fe80f8d-3db6-43e1-aea6-1c9f0e2a3f99 button.colab-df-convert');\n",
              "        buttonEl.style.display =\n",
              "          google.colab.kernel.accessAllowed ? 'block' : 'none';\n",
              "\n",
              "        async function convertToInteractive(key) {\n",
              "          const element = document.querySelector('#df-0fe80f8d-3db6-43e1-aea6-1c9f0e2a3f99');\n",
              "          const dataTable =\n",
              "            await google.colab.kernel.invokeFunction('convertToInteractive',\n",
              "                                                     [key], {});\n",
              "          if (!dataTable) return;\n",
              "\n",
              "          const docLinkHtml = 'Like what you see? Visit the ' +\n",
              "            '<a target=\"_blank\" href=https://colab.research.google.com/notebooks/data_table.ipynb>data table notebook</a>'\n",
              "            + ' to learn more about interactive tables.';\n",
              "          element.innerHTML = '';\n",
              "          dataTable['output_type'] = 'display_data';\n",
              "          await google.colab.output.renderOutput(dataTable, element);\n",
              "          const docLink = document.createElement('div');\n",
              "          docLink.innerHTML = docLinkHtml;\n",
              "          element.appendChild(docLink);\n",
              "        }\n",
              "      </script>\n",
              "    </div>\n",
              "  </div>\n",
              "  "
            ]
          },
          "metadata": {},
          "execution_count": 235
        }
      ]
    },
    {
      "cell_type": "code",
      "source": [
        "#data['PARK_FACIL']=lb.fit_transform(data['PARK_FACIL'])\n",
        "#data['AREA']=lb.fit_transform(data['AREA'])\n",
        "#data['BUILDTYPE']=lb.fit_transform(data['BUILDTYPE'])\n",
        "#data['SALE_COND']=lb.fit_transform(data['SALE_COND'])\n",
        "#data['UTILITY_AVAIL']=lb.fit_transform(data['UTILITY_AVAIL'])\n",
        "#data['STREET']=lb.fit_transform(data['STREET'])\n",
        "#data['MZZONE']=lb.fit_transform(data['MZZONE'])"
      ],
      "metadata": {
        "id": "RRlyHZb2dzbN"
      },
      "execution_count": 236,
      "outputs": []
    },
    {
      "cell_type": "code",
      "source": [
        "data.columns"
      ],
      "metadata": {
        "colab": {
          "base_uri": "https://localhost:8080/"
        },
        "id": "gGXjhwsGWoNv",
        "outputId": "cb6d30d9-ce3f-406f-e7d2-e0e55f8354da"
      },
      "execution_count": 237,
      "outputs": [
        {
          "output_type": "execute_result",
          "data": {
            "text/plain": [
              "Index(['AREA', 'INT_SQFT', 'DIST_MAINROAD', 'N_BEDROOM', 'N_BATHROOM',\n",
              "       'N_ROOM', 'SALE_COND', 'PARK_FACIL', 'BUILDTYPE', 'UTILITY_AVAIL',\n",
              "       'STREET', 'MZZONE', 'QS_ROOMS', 'QS_BATHROOM', 'QS_BEDROOM',\n",
              "       'QS_OVERALL', 'TOTAL_SALES_PRICE', 'BUILD_YEARS', 'SOLD_YEARS',\n",
              "       'AGE_OF_HOUSE'],\n",
              "      dtype='object')"
            ]
          },
          "metadata": {},
          "execution_count": 237
        }
      ]
    },
    {
      "cell_type": "code",
      "source": [
        "data.AREA.unique()"
      ],
      "metadata": {
        "colab": {
          "base_uri": "https://localhost:8080/"
        },
        "id": "TzW67NVRVv4z",
        "outputId": "e45f1a9f-90fe-4511-9d4f-85f2fe71dba7"
      },
      "execution_count": 238,
      "outputs": [
        {
          "output_type": "execute_result",
          "data": {
            "text/plain": [
              "array(['Karapakkam', 'Anna Nagar', 'Adyar', 'Velachery', 'Chrompet',\n",
              "       'KK Nagar', 'T Nagar'], dtype=object)"
            ]
          },
          "metadata": {},
          "execution_count": 238
        }
      ]
    },
    {
      "cell_type": "code",
      "source": [
        "data.AREA = data.AREA.map({'Karapakkam':1,\"Adyar\":2,\"Chrompet\":3,\"Velachery\":4,\"KK Nagar\":5,\"Anna Nagar\":6,\"T Nagar\":7})\n",
        "data.AREA.unique()"
      ],
      "metadata": {
        "colab": {
          "base_uri": "https://localhost:8080/"
        },
        "id": "5Wx04nXCSQEY",
        "outputId": "10dbdce7-0c6c-4bd8-a99f-7427743473e7"
      },
      "execution_count": 239,
      "outputs": [
        {
          "output_type": "execute_result",
          "data": {
            "text/plain": [
              "array([1, 6, 2, 4, 3, 5, 7])"
            ]
          },
          "metadata": {},
          "execution_count": 239
        }
      ]
    },
    {
      "cell_type": "code",
      "source": [
        "data.SALE_COND.unique()"
      ],
      "metadata": {
        "colab": {
          "base_uri": "https://localhost:8080/"
        },
        "id": "XwUIBF4nSQCP",
        "outputId": "406d2dac-9567-4ef4-df6f-2d2d21924d1b"
      },
      "execution_count": 240,
      "outputs": [
        {
          "output_type": "execute_result",
          "data": {
            "text/plain": [
              "array(['AbNormal', 'Family', 'Partial', 'AdjLand', 'Normal Sale'],\n",
              "      dtype=object)"
            ]
          },
          "metadata": {},
          "execution_count": 240
        }
      ]
    },
    {
      "cell_type": "code",
      "source": [
        "data.SALE_COND = data.SALE_COND.map({'Partial':1,\"Family\":2,\"AbNormal\":3,\"Normal Sale\":4,\"AdjLand\":5})\n",
        "data.SALE_COND.unique()"
      ],
      "metadata": {
        "colab": {
          "base_uri": "https://localhost:8080/"
        },
        "id": "UVhgw0cNSP6A",
        "outputId": "233cce8d-e5ab-4ddf-8f29-06ddb5da55d8"
      },
      "execution_count": 241,
      "outputs": [
        {
          "output_type": "execute_result",
          "data": {
            "text/plain": [
              "array([3, 2, 1, 5, 4])"
            ]
          },
          "metadata": {},
          "execution_count": 241
        }
      ]
    },
    {
      "cell_type": "code",
      "source": [
        "data.PARK_FACIL.unique()"
      ],
      "metadata": {
        "colab": {
          "base_uri": "https://localhost:8080/"
        },
        "id": "k7XorpN9SPrP",
        "outputId": "3470b9fa-6961-43ed-e106-8054a5c327dc"
      },
      "execution_count": 242,
      "outputs": [
        {
          "output_type": "execute_result",
          "data": {
            "text/plain": [
              "array(['Yes', 'No'], dtype=object)"
            ]
          },
          "metadata": {},
          "execution_count": 242
        }
      ]
    },
    {
      "cell_type": "code",
      "source": [
        "data.PARK_FACIL =data.PARK_FACIL.map({\"No\":0,\"Yes\":1})\n",
        "data.PARK_FACIL.unique()"
      ],
      "metadata": {
        "colab": {
          "base_uri": "https://localhost:8080/"
        },
        "id": "o9aUBHsvX9ga",
        "outputId": "537c47e5-29ed-4e33-c10c-67d06de1854d"
      },
      "execution_count": 243,
      "outputs": [
        {
          "output_type": "execute_result",
          "data": {
            "text/plain": [
              "array([1, 0])"
            ]
          },
          "metadata": {},
          "execution_count": 243
        }
      ]
    },
    {
      "cell_type": "code",
      "source": [
        "data.UTILITY_AVAIL.unique()"
      ],
      "metadata": {
        "colab": {
          "base_uri": "https://localhost:8080/"
        },
        "id": "0M1kq3-xX9cF",
        "outputId": "b7b06cb8-2135-4023-8caa-44a26df04c4b"
      },
      "execution_count": 244,
      "outputs": [
        {
          "output_type": "execute_result",
          "data": {
            "text/plain": [
              "array(['AllPub', 'ELO', 'No Sewer', 'No Sewa'], dtype=object)"
            ]
          },
          "metadata": {},
          "execution_count": 244
        }
      ]
    },
    {
      "cell_type": "code",
      "source": [
        "data.UTILITY_AVAIL = data.UTILITY_AVAIL.map({\"ELO\":1,\"No Sewa\":2,\"No Sewer\":3,\"AllPub\":4})\n",
        "data.UTILITY_AVAIL.unique()"
      ],
      "metadata": {
        "colab": {
          "base_uri": "https://localhost:8080/"
        },
        "id": "d958WEvlX9Zg",
        "outputId": "bdaca33a-f429-444b-c7a2-793755ae6165"
      },
      "execution_count": 245,
      "outputs": [
        {
          "output_type": "execute_result",
          "data": {
            "text/plain": [
              "array([4, 1, 3, 2])"
            ]
          },
          "metadata": {},
          "execution_count": 245
        }
      ]
    },
    {
      "cell_type": "code",
      "source": [
        "data.STREET.unique()"
      ],
      "metadata": {
        "colab": {
          "base_uri": "https://localhost:8080/"
        },
        "id": "gr8h8ldaZbW8",
        "outputId": "9324214b-c80c-4cdf-9790-32ff16dbfc4d"
      },
      "execution_count": 246,
      "outputs": [
        {
          "output_type": "execute_result",
          "data": {
            "text/plain": [
              "array(['Paved', 'Gravel', 'No Access'], dtype=object)"
            ]
          },
          "metadata": {},
          "execution_count": 246
        }
      ]
    },
    {
      "cell_type": "code",
      "source": [
        "data.STREET = data.STREET.map({\"No Access\":1,\"Paved\":2,\"Gravel\":3})\n",
        "data.STREET.unique()"
      ],
      "metadata": {
        "colab": {
          "base_uri": "https://localhost:8080/"
        },
        "id": "OXGMucD-ZbS3",
        "outputId": "1199860a-da92-48f5-e8bd-2ab8c98dfae2"
      },
      "execution_count": 247,
      "outputs": [
        {
          "output_type": "execute_result",
          "data": {
            "text/plain": [
              "array([2, 3, 1])"
            ]
          },
          "metadata": {},
          "execution_count": 247
        }
      ]
    },
    {
      "cell_type": "code",
      "source": [
        "data.MZZONE.unique()"
      ],
      "metadata": {
        "colab": {
          "base_uri": "https://localhost:8080/"
        },
        "id": "DQLRBgMiZbQp",
        "outputId": "8e5a1034-298d-4e02-e837-485b095053d3"
      },
      "execution_count": 248,
      "outputs": [
        {
          "output_type": "execute_result",
          "data": {
            "text/plain": [
              "array(['A', 'RH', 'RL', 'I', 'C', 'RM'], dtype=object)"
            ]
          },
          "metadata": {},
          "execution_count": 248
        }
      ]
    },
    {
      "cell_type": "code",
      "source": [
        "data.MZZONE = data.MZZONE.map({\"A\":1,\"C\":2,\"I\":3,\"RH\":4,\"RL\":5,'RM':6})\n",
        "data.MZZONE.unique()"
      ],
      "metadata": {
        "colab": {
          "base_uri": "https://localhost:8080/"
        },
        "id": "Be2JkZETaGB2",
        "outputId": "2688ee5d-0891-4410-ee9c-a4a44b1a2ea6"
      },
      "execution_count": 249,
      "outputs": [
        {
          "output_type": "execute_result",
          "data": {
            "text/plain": [
              "array([1, 4, 5, 3, 2, 6])"
            ]
          },
          "metadata": {},
          "execution_count": 249
        }
      ]
    },
    {
      "cell_type": "code",
      "source": [
        "data.BUILDTYPE.unique()"
      ],
      "metadata": {
        "colab": {
          "base_uri": "https://localhost:8080/"
        },
        "id": "jvGmAygfaF9f",
        "outputId": "2383763b-fddd-4207-9e0d-0ae8c0f59442"
      },
      "execution_count": 250,
      "outputs": [
        {
          "output_type": "execute_result",
          "data": {
            "text/plain": [
              "array(['Commercial', 'Others', 'House'], dtype=object)"
            ]
          },
          "metadata": {},
          "execution_count": 250
        }
      ]
    },
    {
      "cell_type": "code",
      "source": [
        "data.BUILDTYPE = data.BUILDTYPE.map({\"House\":0,\"Others\":1,\"Commercial\":2})\n",
        "data.BUILDTYPE.unique()"
      ],
      "metadata": {
        "colab": {
          "base_uri": "https://localhost:8080/"
        },
        "id": "1hk59AMMaF7B",
        "outputId": "3b2af807-2d84-4f57-d3dd-e9dc14aa1425"
      },
      "execution_count": 251,
      "outputs": [
        {
          "output_type": "execute_result",
          "data": {
            "text/plain": [
              "array([2, 1, 0])"
            ]
          },
          "metadata": {},
          "execution_count": 251
        }
      ]
    },
    {
      "cell_type": "code",
      "source": [
        ""
      ],
      "metadata": {
        "id": "R8OY26Ebei3p"
      },
      "execution_count": 251,
      "outputs": []
    },
    {
      "cell_type": "code",
      "source": [
        "data.head()"
      ],
      "metadata": {
        "colab": {
          "base_uri": "https://localhost:8080/",
          "height": 270
        },
        "id": "X9N20OtsdzX3",
        "outputId": "4a696e30-7e7d-4051-c6d7-1a9438a87685"
      },
      "execution_count": 252,
      "outputs": [
        {
          "output_type": "execute_result",
          "data": {
            "text/plain": [
              "   AREA  INT_SQFT  DIST_MAINROAD  N_BEDROOM  N_BATHROOM  N_ROOM  SALE_COND  \\\n",
              "0     1      1004            131        1.0         1.0       3          3   \n",
              "1     6      1986             26        2.0         1.0       5          3   \n",
              "2     2       909             70        1.0         1.0       3          3   \n",
              "3     4      1855             14        3.0         2.0       5          2   \n",
              "4     1      1226             84        1.0         1.0       3          3   \n",
              "\n",
              "   PARK_FACIL  BUILDTYPE  UTILITY_AVAIL  STREET  MZZONE  QS_ROOMS  \\\n",
              "0           1          2              4       2       1       4.0   \n",
              "1           0          2              4       3       4       4.9   \n",
              "2           1          2              1       3       5       4.1   \n",
              "3           0          1              3       2       3       4.7   \n",
              "4           1          1              4       3       2       3.0   \n",
              "\n",
              "   QS_BATHROOM  QS_BEDROOM  QS_OVERALL  TOTAL_SALES_PRICE  BUILD_YEARS  \\\n",
              "0          3.9         4.9       4.330            8124400         1967   \n",
              "1          4.2         2.5       3.765           22781941         1995   \n",
              "2          3.8         2.2       3.090           13672408         1992   \n",
              "3          3.9         3.6       4.010           10063653         1988   \n",
              "4          2.5         4.1       3.290            7717313         1979   \n",
              "\n",
              "   SOLD_YEARS  AGE_OF_HOUSE  \n",
              "0        2011            44  \n",
              "1        2006            11  \n",
              "2        2012            20  \n",
              "3        2010            22  \n",
              "4        2009            30  "
            ],
            "text/html": [
              "\n",
              "  <div id=\"df-5357caaf-8d62-4e7d-be9a-4a5899630fc6\">\n",
              "    <div class=\"colab-df-container\">\n",
              "      <div>\n",
              "<style scoped>\n",
              "    .dataframe tbody tr th:only-of-type {\n",
              "        vertical-align: middle;\n",
              "    }\n",
              "\n",
              "    .dataframe tbody tr th {\n",
              "        vertical-align: top;\n",
              "    }\n",
              "\n",
              "    .dataframe thead th {\n",
              "        text-align: right;\n",
              "    }\n",
              "</style>\n",
              "<table border=\"1\" class=\"dataframe\">\n",
              "  <thead>\n",
              "    <tr style=\"text-align: right;\">\n",
              "      <th></th>\n",
              "      <th>AREA</th>\n",
              "      <th>INT_SQFT</th>\n",
              "      <th>DIST_MAINROAD</th>\n",
              "      <th>N_BEDROOM</th>\n",
              "      <th>N_BATHROOM</th>\n",
              "      <th>N_ROOM</th>\n",
              "      <th>SALE_COND</th>\n",
              "      <th>PARK_FACIL</th>\n",
              "      <th>BUILDTYPE</th>\n",
              "      <th>UTILITY_AVAIL</th>\n",
              "      <th>STREET</th>\n",
              "      <th>MZZONE</th>\n",
              "      <th>QS_ROOMS</th>\n",
              "      <th>QS_BATHROOM</th>\n",
              "      <th>QS_BEDROOM</th>\n",
              "      <th>QS_OVERALL</th>\n",
              "      <th>TOTAL_SALES_PRICE</th>\n",
              "      <th>BUILD_YEARS</th>\n",
              "      <th>SOLD_YEARS</th>\n",
              "      <th>AGE_OF_HOUSE</th>\n",
              "    </tr>\n",
              "  </thead>\n",
              "  <tbody>\n",
              "    <tr>\n",
              "      <th>0</th>\n",
              "      <td>1</td>\n",
              "      <td>1004</td>\n",
              "      <td>131</td>\n",
              "      <td>1.0</td>\n",
              "      <td>1.0</td>\n",
              "      <td>3</td>\n",
              "      <td>3</td>\n",
              "      <td>1</td>\n",
              "      <td>2</td>\n",
              "      <td>4</td>\n",
              "      <td>2</td>\n",
              "      <td>1</td>\n",
              "      <td>4.0</td>\n",
              "      <td>3.9</td>\n",
              "      <td>4.9</td>\n",
              "      <td>4.330</td>\n",
              "      <td>8124400</td>\n",
              "      <td>1967</td>\n",
              "      <td>2011</td>\n",
              "      <td>44</td>\n",
              "    </tr>\n",
              "    <tr>\n",
              "      <th>1</th>\n",
              "      <td>6</td>\n",
              "      <td>1986</td>\n",
              "      <td>26</td>\n",
              "      <td>2.0</td>\n",
              "      <td>1.0</td>\n",
              "      <td>5</td>\n",
              "      <td>3</td>\n",
              "      <td>0</td>\n",
              "      <td>2</td>\n",
              "      <td>4</td>\n",
              "      <td>3</td>\n",
              "      <td>4</td>\n",
              "      <td>4.9</td>\n",
              "      <td>4.2</td>\n",
              "      <td>2.5</td>\n",
              "      <td>3.765</td>\n",
              "      <td>22781941</td>\n",
              "      <td>1995</td>\n",
              "      <td>2006</td>\n",
              "      <td>11</td>\n",
              "    </tr>\n",
              "    <tr>\n",
              "      <th>2</th>\n",
              "      <td>2</td>\n",
              "      <td>909</td>\n",
              "      <td>70</td>\n",
              "      <td>1.0</td>\n",
              "      <td>1.0</td>\n",
              "      <td>3</td>\n",
              "      <td>3</td>\n",
              "      <td>1</td>\n",
              "      <td>2</td>\n",
              "      <td>1</td>\n",
              "      <td>3</td>\n",
              "      <td>5</td>\n",
              "      <td>4.1</td>\n",
              "      <td>3.8</td>\n",
              "      <td>2.2</td>\n",
              "      <td>3.090</td>\n",
              "      <td>13672408</td>\n",
              "      <td>1992</td>\n",
              "      <td>2012</td>\n",
              "      <td>20</td>\n",
              "    </tr>\n",
              "    <tr>\n",
              "      <th>3</th>\n",
              "      <td>4</td>\n",
              "      <td>1855</td>\n",
              "      <td>14</td>\n",
              "      <td>3.0</td>\n",
              "      <td>2.0</td>\n",
              "      <td>5</td>\n",
              "      <td>2</td>\n",
              "      <td>0</td>\n",
              "      <td>1</td>\n",
              "      <td>3</td>\n",
              "      <td>2</td>\n",
              "      <td>3</td>\n",
              "      <td>4.7</td>\n",
              "      <td>3.9</td>\n",
              "      <td>3.6</td>\n",
              "      <td>4.010</td>\n",
              "      <td>10063653</td>\n",
              "      <td>1988</td>\n",
              "      <td>2010</td>\n",
              "      <td>22</td>\n",
              "    </tr>\n",
              "    <tr>\n",
              "      <th>4</th>\n",
              "      <td>1</td>\n",
              "      <td>1226</td>\n",
              "      <td>84</td>\n",
              "      <td>1.0</td>\n",
              "      <td>1.0</td>\n",
              "      <td>3</td>\n",
              "      <td>3</td>\n",
              "      <td>1</td>\n",
              "      <td>1</td>\n",
              "      <td>4</td>\n",
              "      <td>3</td>\n",
              "      <td>2</td>\n",
              "      <td>3.0</td>\n",
              "      <td>2.5</td>\n",
              "      <td>4.1</td>\n",
              "      <td>3.290</td>\n",
              "      <td>7717313</td>\n",
              "      <td>1979</td>\n",
              "      <td>2009</td>\n",
              "      <td>30</td>\n",
              "    </tr>\n",
              "  </tbody>\n",
              "</table>\n",
              "</div>\n",
              "      <button class=\"colab-df-convert\" onclick=\"convertToInteractive('df-5357caaf-8d62-4e7d-be9a-4a5899630fc6')\"\n",
              "              title=\"Convert this dataframe to an interactive table.\"\n",
              "              style=\"display:none;\">\n",
              "        \n",
              "  <svg xmlns=\"http://www.w3.org/2000/svg\" height=\"24px\"viewBox=\"0 0 24 24\"\n",
              "       width=\"24px\">\n",
              "    <path d=\"M0 0h24v24H0V0z\" fill=\"none\"/>\n",
              "    <path d=\"M18.56 5.44l.94 2.06.94-2.06 2.06-.94-2.06-.94-.94-2.06-.94 2.06-2.06.94zm-11 1L8.5 8.5l.94-2.06 2.06-.94-2.06-.94L8.5 2.5l-.94 2.06-2.06.94zm10 10l.94 2.06.94-2.06 2.06-.94-2.06-.94-.94-2.06-.94 2.06-2.06.94z\"/><path d=\"M17.41 7.96l-1.37-1.37c-.4-.4-.92-.59-1.43-.59-.52 0-1.04.2-1.43.59L10.3 9.45l-7.72 7.72c-.78.78-.78 2.05 0 2.83L4 21.41c.39.39.9.59 1.41.59.51 0 1.02-.2 1.41-.59l7.78-7.78 2.81-2.81c.8-.78.8-2.07 0-2.86zM5.41 20L4 18.59l7.72-7.72 1.47 1.35L5.41 20z\"/>\n",
              "  </svg>\n",
              "      </button>\n",
              "      \n",
              "  <style>\n",
              "    .colab-df-container {\n",
              "      display:flex;\n",
              "      flex-wrap:wrap;\n",
              "      gap: 12px;\n",
              "    }\n",
              "\n",
              "    .colab-df-convert {\n",
              "      background-color: #E8F0FE;\n",
              "      border: none;\n",
              "      border-radius: 50%;\n",
              "      cursor: pointer;\n",
              "      display: none;\n",
              "      fill: #1967D2;\n",
              "      height: 32px;\n",
              "      padding: 0 0 0 0;\n",
              "      width: 32px;\n",
              "    }\n",
              "\n",
              "    .colab-df-convert:hover {\n",
              "      background-color: #E2EBFA;\n",
              "      box-shadow: 0px 1px 2px rgba(60, 64, 67, 0.3), 0px 1px 3px 1px rgba(60, 64, 67, 0.15);\n",
              "      fill: #174EA6;\n",
              "    }\n",
              "\n",
              "    [theme=dark] .colab-df-convert {\n",
              "      background-color: #3B4455;\n",
              "      fill: #D2E3FC;\n",
              "    }\n",
              "\n",
              "    [theme=dark] .colab-df-convert:hover {\n",
              "      background-color: #434B5C;\n",
              "      box-shadow: 0px 1px 3px 1px rgba(0, 0, 0, 0.15);\n",
              "      filter: drop-shadow(0px 1px 2px rgba(0, 0, 0, 0.3));\n",
              "      fill: #FFFFFF;\n",
              "    }\n",
              "  </style>\n",
              "\n",
              "      <script>\n",
              "        const buttonEl =\n",
              "          document.querySelector('#df-5357caaf-8d62-4e7d-be9a-4a5899630fc6 button.colab-df-convert');\n",
              "        buttonEl.style.display =\n",
              "          google.colab.kernel.accessAllowed ? 'block' : 'none';\n",
              "\n",
              "        async function convertToInteractive(key) {\n",
              "          const element = document.querySelector('#df-5357caaf-8d62-4e7d-be9a-4a5899630fc6');\n",
              "          const dataTable =\n",
              "            await google.colab.kernel.invokeFunction('convertToInteractive',\n",
              "                                                     [key], {});\n",
              "          if (!dataTable) return;\n",
              "\n",
              "          const docLinkHtml = 'Like what you see? Visit the ' +\n",
              "            '<a target=\"_blank\" href=https://colab.research.google.com/notebooks/data_table.ipynb>data table notebook</a>'\n",
              "            + ' to learn more about interactive tables.';\n",
              "          element.innerHTML = '';\n",
              "          dataTable['output_type'] = 'display_data';\n",
              "          await google.colab.output.renderOutput(dataTable, element);\n",
              "          const docLink = document.createElement('div');\n",
              "          docLink.innerHTML = docLinkHtml;\n",
              "          element.appendChild(docLink);\n",
              "        }\n",
              "      </script>\n",
              "    </div>\n",
              "  </div>\n",
              "  "
            ]
          },
          "metadata": {},
          "execution_count": 252
        }
      ]
    },
    {
      "cell_type": "code",
      "source": [
        "data.isna().sum()"
      ],
      "metadata": {
        "colab": {
          "base_uri": "https://localhost:8080/"
        },
        "id": "LGmRFkd8xwxC",
        "outputId": "f80ed459-1ec9-46f6-9d0f-2fa0a6608465"
      },
      "execution_count": 253,
      "outputs": [
        {
          "output_type": "execute_result",
          "data": {
            "text/plain": [
              "AREA                 0\n",
              "INT_SQFT             0\n",
              "DIST_MAINROAD        0\n",
              "N_BEDROOM            0\n",
              "N_BATHROOM           0\n",
              "N_ROOM               0\n",
              "SALE_COND            0\n",
              "PARK_FACIL           0\n",
              "BUILDTYPE            0\n",
              "UTILITY_AVAIL        0\n",
              "STREET               0\n",
              "MZZONE               0\n",
              "QS_ROOMS             0\n",
              "QS_BATHROOM          0\n",
              "QS_BEDROOM           0\n",
              "QS_OVERALL           0\n",
              "TOTAL_SALES_PRICE    0\n",
              "BUILD_YEARS          0\n",
              "SOLD_YEARS           0\n",
              "AGE_OF_HOUSE         0\n",
              "dtype: int64"
            ]
          },
          "metadata": {},
          "execution_count": 253
        }
      ]
    },
    {
      "cell_type": "markdown",
      "source": [
        "# SPLITTING DATA "
      ],
      "metadata": {
        "id": "kzTI0EAQ6ZlG"
      }
    },
    {
      "cell_type": "code",
      "source": [
        "X= np.array(data.drop(['TOTAL_SALES_PRICE'],axis=1))\n",
        "y= np.array(data['TOTAL_SALES_PRICE'])"
      ],
      "metadata": {
        "id": "JJFwP5oW65j8"
      },
      "execution_count": 254,
      "outputs": []
    },
    {
      "cell_type": "code",
      "source": [
        "from sklearn.model_selection import train_test_split"
      ],
      "metadata": {
        "id": "mLkZD76PdzUw"
      },
      "execution_count": 255,
      "outputs": []
    },
    {
      "cell_type": "code",
      "source": [
        "X_train,X_test,Y_train,Y_test=train_test_split(X,y,test_size=0.25,random_state=5)\n",
        "X_train.shape, X_test.shape, Y_train.shape, Y_test.shape"
      ],
      "metadata": {
        "colab": {
          "base_uri": "https://localhost:8080/"
        },
        "id": "sKEhErcJdzRQ",
        "outputId": "64a9978c-8e35-402e-e190-f2ae8b17e568"
      },
      "execution_count": 256,
      "outputs": [
        {
          "output_type": "execute_result",
          "data": {
            "text/plain": [
              "((5331, 19), (1778, 19), (5331,), (1778,))"
            ]
          },
          "metadata": {},
          "execution_count": 256
        }
      ]
    },
    {
      "cell_type": "markdown",
      "source": [
        "# MACHINE LEARNING MODEL"
      ],
      "metadata": {
        "id": "bHamDNsm9bm9"
      }
    },
    {
      "cell_type": "code",
      "source": [
        "from sklearn.ensemble import RandomForestRegressor\n",
        "from sklearn.linear_model import LinearRegression\n",
        "from sklearn.ensemble import GradientBoostingRegressor\n",
        "from sklearn.ensemble import VotingRegressor\n",
        "from sklearn.tree import DecisionTreeRegressor\n",
        "from sklearn.neighbors import KNeighborsClassifier\n",
        "import xgboost as xg\n",
        "from sklearn.model_selection import train_test_split\n",
        "from sklearn.preprocessing import StandardScaler\n",
        "from sklearn.preprocessing import MinMaxScaler\n",
        "from sklearn.metrics import r2_score, mean_squared_error, mean_absolute_error\n"
      ],
      "metadata": {
        "id": "-vStsSjW9a3r"
      },
      "execution_count": 257,
      "outputs": []
    },
    {
      "cell_type": "markdown",
      "source": [
        "**1st MODEL LINEAR REGRESSION MODEL**"
      ],
      "metadata": {
        "id": "TUUOyrze-vdH"
      }
    },
    {
      "cell_type": "code",
      "source": [
        "from sklearn.linear_model import LinearRegression\n",
        "lr = LinearRegression()\n"
      ],
      "metadata": {
        "id": "wD6fMnSRdzN8"
      },
      "execution_count": 258,
      "outputs": []
    },
    {
      "cell_type": "code",
      "source": [
        "lr.fit(X_train,Y_train)"
      ],
      "metadata": {
        "colab": {
          "base_uri": "https://localhost:8080/"
        },
        "id": "eFjPh6YK8NR8",
        "outputId": "ad7525f3-9516-441f-ffe7-f7bb828efe7b"
      },
      "execution_count": 259,
      "outputs": [
        {
          "output_type": "execute_result",
          "data": {
            "text/plain": [
              "LinearRegression()"
            ]
          },
          "metadata": {},
          "execution_count": 259
        }
      ]
    },
    {
      "cell_type": "code",
      "source": [
        "yl_pred=lr.predict(X_test)"
      ],
      "metadata": {
        "id": "EQ2loIYp8NJt"
      },
      "execution_count": 260,
      "outputs": []
    },
    {
      "cell_type": "code",
      "source": [
        "print(r2_score(Y_test,yl_pred))"
      ],
      "metadata": {
        "colab": {
          "base_uri": "https://localhost:8080/"
        },
        "id": "imSNhT6IzN_k",
        "outputId": "adb863b6-f4fe-42a7-9f6a-9daddb316191"
      },
      "execution_count": 261,
      "outputs": [
        {
          "output_type": "stream",
          "name": "stdout",
          "text": [
            "0.8892946505436226\n"
          ]
        }
      ]
    },
    {
      "cell_type": "markdown",
      "source": [
        "# 2nd MODEL IS RANDOM FOREST"
      ],
      "metadata": {
        "id": "7oaexDMm4BdI"
      }
    },
    {
      "cell_type": "code",
      "source": [
        "# Import the model we are using\n",
        "from sklearn.ensemble import RandomForestRegressor\n",
        "\n",
        "# Instantiate model \n",
        "rf = RandomForestRegressor(n_estimators= 100, max_depth = 5, max_features='sqrt')\n",
        "\n",
        "# Train the model on training data\n",
        "rf.fit(X_train, Y_train);\n",
        "\n",
        "# Use the forest's predict method on the test data\n",
        "yr_pred = rf.predict(X_test)"
      ],
      "metadata": {
        "id": "DV4X2dSk4Apd"
      },
      "execution_count": 262,
      "outputs": []
    },
    {
      "cell_type": "code",
      "source": [
        "print(\"Random forest Regressor model Rsquared metric\",r2_score(Y_test,yr_pred))"
      ],
      "metadata": {
        "colab": {
          "base_uri": "https://localhost:8080/"
        },
        "id": "Rst_zoIezNk9",
        "outputId": "2b84d7a8-cb7e-44f1-967e-f50910f12b86"
      },
      "execution_count": 263,
      "outputs": [
        {
          "output_type": "stream",
          "name": "stdout",
          "text": [
            "Random forest Regressor model Rsquared metric 0.8690683603922671\n"
          ]
        }
      ]
    },
    {
      "cell_type": "markdown",
      "source": [
        "# 3rd MODEL IS XGBOOST."
      ],
      "metadata": {
        "id": "UNll6wW-4plG"
      }
    },
    {
      "cell_type": "code",
      "source": [
        "import xgboost as xg\n",
        "# xg_model = XGBRegressor()\n",
        "xg= xg.XGBRegressor(colsample_bytree=0.4,\n",
        "                 gamma=2,                 \n",
        "                 learning_rate=0.01,\n",
        "                 max_depth=4,\n",
        "                 min_child_weight=1.5,\n",
        "                 n_estimators=1000,                                                                    \n",
        "                )"
      ],
      "metadata": {
        "id": "HUkMiJ6pzQet"
      },
      "execution_count": 264,
      "outputs": []
    },
    {
      "cell_type": "code",
      "source": [
        "xg.fit(X_train,Y_train)"
      ],
      "metadata": {
        "colab": {
          "base_uri": "https://localhost:8080/"
        },
        "id": "9QgbLBYI4pBc",
        "outputId": "ba783ab9-154e-492c-efae-93d9120d6cf4"
      },
      "execution_count": 265,
      "outputs": [
        {
          "output_type": "stream",
          "name": "stdout",
          "text": [
            "[11:12:53] WARNING: /workspace/src/objective/regression_obj.cu:152: reg:linear is now deprecated in favor of reg:squarederror.\n"
          ]
        },
        {
          "output_type": "execute_result",
          "data": {
            "text/plain": [
              "XGBRegressor(colsample_bytree=0.4, gamma=2, learning_rate=0.01, max_depth=4,\n",
              "             min_child_weight=1.5, n_estimators=1000)"
            ]
          },
          "metadata": {},
          "execution_count": 265
        }
      ]
    },
    {
      "cell_type": "code",
      "source": [
        "yx_pred=xg.predict(X_test)"
      ],
      "metadata": {
        "id": "D5Wd7qYp4o-N"
      },
      "execution_count": 266,
      "outputs": []
    },
    {
      "cell_type": "code",
      "source": [
        "print(\"XGBoost model Rsquared metric:\",r2_score(Y_test,yx_pred))"
      ],
      "metadata": {
        "colab": {
          "base_uri": "https://localhost:8080/"
        },
        "id": "cESneGVS4o6O",
        "outputId": "f0c964b2-2471-4fc6-dbbb-3503dd5b5ec5"
      },
      "execution_count": 267,
      "outputs": [
        {
          "output_type": "stream",
          "name": "stdout",
          "text": [
            "XGBoost model Rsquared metric: 0.9934063889146453\n"
          ]
        }
      ]
    },
    {
      "cell_type": "markdown",
      "source": [
        "# 4th MODEL IS ENSEMBLE TECHNIQUE."
      ],
      "metadata": {
        "id": "0YdCEgFf6Gi9"
      }
    },
    {
      "cell_type": "code",
      "source": [
        "from sklearn.ensemble import RandomForestRegressor\n",
        "from sklearn.linear_model import LinearRegression\n",
        "from sklearn.ensemble import GradientBoostingRegressor\n",
        "from sklearn.ensemble import VotingRegressor\n",
        "from sklearn.tree import DecisionTreeRegressor\n",
        "from sklearn.neighbors import KNeighborsClassifier\n",
        "import xgboost as xg\n",
        "\n",
        "model1 = LinearRegression()\n",
        "model2 = RandomForestRegressor(random_state=1)\n",
        "model3 = GradientBoostingRegressor(random_state=1)\n",
        "model4 = DecisionTreeRegressor(random_state=1)\n",
        "\n",
        "model = VotingRegressor(estimators=[('Linear_Regg', model1), ('Random_Forest', model2), ('Gradient_Boosting', model3),('Decision_Tree',model4)])\n",
        "model.fit(X_train,Y_train)\n",
        "ye_pred=model.predict(X_test)\n",
        "print(\"Ensemble Technique Rsquared metric\",r2_score(Y_test,ye_pred))"
      ],
      "metadata": {
        "colab": {
          "base_uri": "https://localhost:8080/"
        },
        "id": "ytcxQX2e4o2y",
        "outputId": "b6ef4601-9f2d-40ea-d92f-be55cfa03d92"
      },
      "execution_count": 268,
      "outputs": [
        {
          "output_type": "stream",
          "name": "stdout",
          "text": [
            "Ensemble Technique Rsquared metric 0.9846210369601057\n"
          ]
        }
      ]
    },
    {
      "cell_type": "markdown",
      "source": [
        "# R_SQUARED_SCORES.\n"
      ],
      "metadata": {
        "id": "Ikf6ImQa7gaj"
      }
    },
    {
      "cell_type": "code",
      "source": [
        "print(\"XGBoost model Rsquared metric:\",r2_score(Y_test,yx_pred))\n",
        "print(\"Ensemble Technique Rsquared metric:\",r2_score(Y_test,ye_pred))\n",
        "print(\"Random forest Regressor model Rsquared metric:\",r2_score(Y_test,yr_pred))\n",
        "print(\"Linear Regg model Rsquared metric:\",r2_score(Y_test,yl_pred))"
      ],
      "metadata": {
        "colab": {
          "base_uri": "https://localhost:8080/"
        },
        "id": "8KX2ZOJ858l5",
        "outputId": "b9e3fb02-874b-46cf-e7b7-74886dab139a"
      },
      "execution_count": 269,
      "outputs": [
        {
          "output_type": "stream",
          "name": "stdout",
          "text": [
            "XGBoost model Rsquared metric: 0.9934063889146453\n",
            "Ensemble Technique Rsquared metric: 0.9846210369601057\n",
            "Random forest Regressor model Rsquared metric: 0.8690683603922671\n",
            "Linear Regg model Rsquared metric: 0.8892946505436226\n"
          ]
        }
      ]
    },
    {
      "cell_type": "markdown",
      "source": [
        "# BEST MODEL\n",
        "\n",
        "My XGBoost model give me the high accuracy which is close to 1\n",
        "\n",
        "Followed by Ensemble Technique, RandomForest Regressor and Linear Regression. "
      ],
      "metadata": {
        "id": "RdG3thFf95cf"
      }
    },
    {
      "cell_type": "code",
      "source": [
        "best_prediction = pd.DataFrame({\n",
        "    'actual':Y_test,\n",
        "    'predicted':yx_pred.flatten()\n",
        "})\n",
        "\n",
        "best_prediction.head()"
      ],
      "metadata": {
        "colab": {
          "base_uri": "https://localhost:8080/",
          "height": 206
        },
        "id": "Wi0a4Of558ie",
        "outputId": "ab837e59-227c-4dc4-cfac-90f84129c5dc"
      },
      "execution_count": 270,
      "outputs": [
        {
          "output_type": "execute_result",
          "data": {
            "text/plain": [
              "     actual   predicted\n",
              "0  10409495  10574910.0\n",
              "1  14850662  14702122.0\n",
              "2  14265012  14194338.0\n",
              "3  14653003  14378272.0\n",
              "4   7804245   7751069.0"
            ],
            "text/html": [
              "\n",
              "  <div id=\"df-0c2ed140-4b33-4a48-8405-8907294e3841\">\n",
              "    <div class=\"colab-df-container\">\n",
              "      <div>\n",
              "<style scoped>\n",
              "    .dataframe tbody tr th:only-of-type {\n",
              "        vertical-align: middle;\n",
              "    }\n",
              "\n",
              "    .dataframe tbody tr th {\n",
              "        vertical-align: top;\n",
              "    }\n",
              "\n",
              "    .dataframe thead th {\n",
              "        text-align: right;\n",
              "    }\n",
              "</style>\n",
              "<table border=\"1\" class=\"dataframe\">\n",
              "  <thead>\n",
              "    <tr style=\"text-align: right;\">\n",
              "      <th></th>\n",
              "      <th>actual</th>\n",
              "      <th>predicted</th>\n",
              "    </tr>\n",
              "  </thead>\n",
              "  <tbody>\n",
              "    <tr>\n",
              "      <th>0</th>\n",
              "      <td>10409495</td>\n",
              "      <td>10574910.0</td>\n",
              "    </tr>\n",
              "    <tr>\n",
              "      <th>1</th>\n",
              "      <td>14850662</td>\n",
              "      <td>14702122.0</td>\n",
              "    </tr>\n",
              "    <tr>\n",
              "      <th>2</th>\n",
              "      <td>14265012</td>\n",
              "      <td>14194338.0</td>\n",
              "    </tr>\n",
              "    <tr>\n",
              "      <th>3</th>\n",
              "      <td>14653003</td>\n",
              "      <td>14378272.0</td>\n",
              "    </tr>\n",
              "    <tr>\n",
              "      <th>4</th>\n",
              "      <td>7804245</td>\n",
              "      <td>7751069.0</td>\n",
              "    </tr>\n",
              "  </tbody>\n",
              "</table>\n",
              "</div>\n",
              "      <button class=\"colab-df-convert\" onclick=\"convertToInteractive('df-0c2ed140-4b33-4a48-8405-8907294e3841')\"\n",
              "              title=\"Convert this dataframe to an interactive table.\"\n",
              "              style=\"display:none;\">\n",
              "        \n",
              "  <svg xmlns=\"http://www.w3.org/2000/svg\" height=\"24px\"viewBox=\"0 0 24 24\"\n",
              "       width=\"24px\">\n",
              "    <path d=\"M0 0h24v24H0V0z\" fill=\"none\"/>\n",
              "    <path d=\"M18.56 5.44l.94 2.06.94-2.06 2.06-.94-2.06-.94-.94-2.06-.94 2.06-2.06.94zm-11 1L8.5 8.5l.94-2.06 2.06-.94-2.06-.94L8.5 2.5l-.94 2.06-2.06.94zm10 10l.94 2.06.94-2.06 2.06-.94-2.06-.94-.94-2.06-.94 2.06-2.06.94z\"/><path d=\"M17.41 7.96l-1.37-1.37c-.4-.4-.92-.59-1.43-.59-.52 0-1.04.2-1.43.59L10.3 9.45l-7.72 7.72c-.78.78-.78 2.05 0 2.83L4 21.41c.39.39.9.59 1.41.59.51 0 1.02-.2 1.41-.59l7.78-7.78 2.81-2.81c.8-.78.8-2.07 0-2.86zM5.41 20L4 18.59l7.72-7.72 1.47 1.35L5.41 20z\"/>\n",
              "  </svg>\n",
              "      </button>\n",
              "      \n",
              "  <style>\n",
              "    .colab-df-container {\n",
              "      display:flex;\n",
              "      flex-wrap:wrap;\n",
              "      gap: 12px;\n",
              "    }\n",
              "\n",
              "    .colab-df-convert {\n",
              "      background-color: #E8F0FE;\n",
              "      border: none;\n",
              "      border-radius: 50%;\n",
              "      cursor: pointer;\n",
              "      display: none;\n",
              "      fill: #1967D2;\n",
              "      height: 32px;\n",
              "      padding: 0 0 0 0;\n",
              "      width: 32px;\n",
              "    }\n",
              "\n",
              "    .colab-df-convert:hover {\n",
              "      background-color: #E2EBFA;\n",
              "      box-shadow: 0px 1px 2px rgba(60, 64, 67, 0.3), 0px 1px 3px 1px rgba(60, 64, 67, 0.15);\n",
              "      fill: #174EA6;\n",
              "    }\n",
              "\n",
              "    [theme=dark] .colab-df-convert {\n",
              "      background-color: #3B4455;\n",
              "      fill: #D2E3FC;\n",
              "    }\n",
              "\n",
              "    [theme=dark] .colab-df-convert:hover {\n",
              "      background-color: #434B5C;\n",
              "      box-shadow: 0px 1px 3px 1px rgba(0, 0, 0, 0.15);\n",
              "      filter: drop-shadow(0px 1px 2px rgba(0, 0, 0, 0.3));\n",
              "      fill: #FFFFFF;\n",
              "    }\n",
              "  </style>\n",
              "\n",
              "      <script>\n",
              "        const buttonEl =\n",
              "          document.querySelector('#df-0c2ed140-4b33-4a48-8405-8907294e3841 button.colab-df-convert');\n",
              "        buttonEl.style.display =\n",
              "          google.colab.kernel.accessAllowed ? 'block' : 'none';\n",
              "\n",
              "        async function convertToInteractive(key) {\n",
              "          const element = document.querySelector('#df-0c2ed140-4b33-4a48-8405-8907294e3841');\n",
              "          const dataTable =\n",
              "            await google.colab.kernel.invokeFunction('convertToInteractive',\n",
              "                                                     [key], {});\n",
              "          if (!dataTable) return;\n",
              "\n",
              "          const docLinkHtml = 'Like what you see? Visit the ' +\n",
              "            '<a target=\"_blank\" href=https://colab.research.google.com/notebooks/data_table.ipynb>data table notebook</a>'\n",
              "            + ' to learn more about interactive tables.';\n",
              "          element.innerHTML = '';\n",
              "          dataTable['output_type'] = 'display_data';\n",
              "          await google.colab.output.renderOutput(dataTable, element);\n",
              "          const docLink = document.createElement('div');\n",
              "          docLink.innerHTML = docLinkHtml;\n",
              "          element.appendChild(docLink);\n",
              "        }\n",
              "      </script>\n",
              "    </div>\n",
              "  </div>\n",
              "  "
            ]
          },
          "metadata": {},
          "execution_count": 270
        }
      ]
    },
    {
      "cell_type": "code",
      "source": [
        "plt.figure(figsize=(15,4))\n",
        "sns.kdeplot(data=best_prediction, x='actual', label='actual', shade=True)\n",
        "sns.kdeplot(data=best_prediction, x='predicted', label='predicted', color=\"black\", shade=True)\n",
        "plt.title(\"Actual Price Vs Predicted Price\")\n",
        "plt.legend()\n",
        "plt.show()"
      ],
      "metadata": {
        "colab": {
          "base_uri": "https://localhost:8080/",
          "height": 301
        },
        "id": "Rt8dSFhm58fa",
        "outputId": "bddc8971-b1ba-473e-a6e1-b075e42d59c1"
      },
      "execution_count": 271,
      "outputs": [
        {
          "output_type": "display_data",
          "data": {
            "text/plain": [
              "<Figure size 1080x288 with 1 Axes>"
            ],
            "image/png": "[encoded data removed]"
          },
          "metadata": {}
        }
      ]
    },
    {
      "cell_type": "code",
      "source": [
        ""
      ],
      "metadata": {
        "id": "3FcxDiLb-FHk"
      },
      "execution_count": 271,
      "outputs": []
    },
    {
      "cell_type": "markdown",
      "source": [
        "# SUGGESTION TO BUYERS AND REAL ESTATE AGENTS.\n",
        "\n",
        "*Listed houses in the dataset were built in between 1950 and 2010, and sold in \n",
        "between 2004 to 2014.\n",
        "\n",
        "*Hose price was all time low during the year of 2008 and 2010 because of economical crisis in global market and natural calamities.\n",
        "\n",
        "*Highest number of houses were sold in 2010-11. Houses are ranges in between INR 20Lakh to more than 2 Crore.\n",
        "\n",
        "*Maximum number of rooms are 6, including 4 bedrooms and 2 bathrooms.\n",
        "\n",
        "*Sale price column has some outliers, but we can't drop them as they are actual values and there contribution is unavoidable.\n",
        "\n",
        "*House size and number of rooms are highly co-related to sales price. whereas, house age is negatively corelate to the sales price and built year is positive corelated.\n",
        "\n",
        "*More number of houses were sold in Chrompet and Karapakkam. Most of these houses have single bedroom and of lower price than houses in T Nagar and Anna Nagar.\n",
        "\n",
        "*Selling rate of commercially built apartments is low in compare to other building types. May be this because of their expensive nature.\n",
        "\n",
        "*Frequent house purchasing activities were happened in the RH, RL and RM municipality zone. These areas have better access.\n",
        "\n",
        "\n"
      ],
      "metadata": {
        "id": "ray0f9RUgVSl"
      }
    },
    {
      "cell_type": "code",
      "source": [
        ""
      ],
      "metadata": {
        "id": "Bft9b_fE-FEX"
      },
      "execution_count": 271,
      "outputs": []
    },
    {
      "cell_type": "markdown",
      "source": [
        "# Builders need to take care of these findings:\n",
        "\n",
        "*It seems that the building type and available utilities effects the house price.\n",
        "\n",
        "*Buildings with commercial build type and with all public facilities are very expensive.\n",
        "\n",
        "*In Karapakkam the streets have limited or no access, which causes the house price to drop.\n",
        "\n",
        "*Houses near to Gravel type of street come with highest price, followed by paved roads.\n",
        "\n",
        "*Streets with no access gets less value."
      ],
      "metadata": {
        "id": "1nG79VQshBnf"
      }
    },
    {
      "cell_type": "code",
      "source": [
        ""
      ],
      "metadata": {
        "id": "lJFXXhiL-FBb"
      },
      "execution_count": 271,
      "outputs": []
    },
    {
      "cell_type": "code",
      "source": [
        ""
      ],
      "metadata": {
        "id": "xl9nnVIT-dpw"
      },
      "execution_count": 271,
      "outputs": []
    },
    {
      "cell_type": "code",
      "source": [
        ""
      ],
      "metadata": {
        "id": "eVL7YO2Q-dmM"
      },
      "execution_count": 271,
      "outputs": []
    }
  ]
}